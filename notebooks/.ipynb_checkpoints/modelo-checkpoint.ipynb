{
 "cells": [
  {
   "cell_type": "code",
   "execution_count": null,
   "id": "fe53c36a-e2b6-400c-bcdf-ff894a82ee2f",
   "metadata": {},
   "outputs": [],
   "source": []
  },
  {
   "cell_type": "markdown",
   "id": "c003b3bf-1def-4ff0-bd1c-00f17b057cbe",
   "metadata": {},
   "source": [
    "## **0.0 Imports**"
   ]
  },
  {
   "cell_type": "markdown",
   "id": "58d5828e-b9f4-4c13-94be-847534408118",
   "metadata": {},
   "source": [
    "### 0.1 Helper Functions"
   ]
  },
  {
   "cell_type": "markdown",
   "id": "3079d6ab-f343-4cd1-9459-030c1f18f017",
   "metadata": {},
   "source": [
    "### 0.2 Load Dataset"
   ]
  },
  {
   "cell_type": "markdown",
   "id": "0c67712e-34cf-4468-8587-e5fb4270445b",
   "metadata": {
    "tags": []
   },
   "source": [
    "## **1.0 Descrição dos dados**"
   ]
  },
  {
   "cell_type": "markdown",
   "id": "b1d574ee-54d0-47af-98ef-8f94d9ffde13",
   "metadata": {},
   "source": [
    "### **1.1 Rename columns**"
   ]
  },
  {
   "cell_type": "markdown",
   "id": "97a607fc-5ed7-4a77-ac35-3f70e0f2a557",
   "metadata": {},
   "source": [
    "### **1.2 Data dimensions**"
   ]
  },
  {
   "cell_type": "markdown",
   "id": "1c3e3d07-844c-4dc1-a182-bd3134ef53d4",
   "metadata": {},
   "source": [
    "### **1.3 Data types**"
   ]
  },
  {
   "cell_type": "markdown",
   "id": "81969c4e-a95a-4405-9520-2b7365d8c115",
   "metadata": {},
   "source": [
    "### **1.4 Check NA**"
   ]
  },
  {
   "cell_type": "markdown",
   "id": "cdd58d2d-4453-4e98-a22d-dd7739d35a2f",
   "metadata": {},
   "source": [
    "### **1.5 Replace NA**"
   ]
  },
  {
   "cell_type": "markdown",
   "id": "e04dc6bd-362c-4043-a426-0aed446b40da",
   "metadata": {},
   "source": [
    "### **1.6 Changes dTypes**"
   ]
  },
  {
   "cell_type": "markdown",
   "id": "2c09d027-f314-499c-8be0-24b7a67884ae",
   "metadata": {},
   "source": [
    "### **1.7 Descriptive Statistics**"
   ]
  },
  {
   "cell_type": "markdown",
   "id": "02033fc1-770f-404b-acde-6ffb3af7a050",
   "metadata": {
    "jp-MarkdownHeadingCollapsed": true,
    "tags": []
   },
   "source": [
    "## **2.0 Feature Engineering**"
   ]
  },
  {
   "cell_type": "markdown",
   "id": "90ad00a3-9fee-44a9-a651-eb595836505d",
   "metadata": {
    "tags": []
   },
   "source": [
    "## **3.0 Filtragem de Variáveis**"
   ]
  },
  {
   "cell_type": "markdown",
   "id": "54436764-30d5-4a6c-92b7-7d37f911b53b",
   "metadata": {
    "tags": []
   },
   "source": [
    "## **4.0 EDA (Exploratory Data Analysis)**"
   ]
  },
  {
   "cell_type": "markdown",
   "id": "09454bf1-ceb3-4370-abfd-0f1be41febb3",
   "metadata": {
    "tags": []
   },
   "source": [
    "## **5.0 Data Preparation**"
   ]
  },
  {
   "cell_type": "markdown",
   "id": "f94a373d-2415-4056-b7b3-3490f8e04e88",
   "metadata": {
    "tags": []
   },
   "source": [
    "## **6.0 Feature Selection**"
   ]
  },
  {
   "cell_type": "markdown",
   "id": "d78b6d31-a406-428c-a3f4-79e99a786813",
   "metadata": {
    "jp-MarkdownHeadingCollapsed": true,
    "tags": []
   },
   "source": [
    "## **7.0 Hyperparameter Fine Tuning**"
   ]
  },
  {
   "cell_type": "markdown",
   "id": "f98b75e5-1446-4ec5-99ed-a8007c12b1cc",
   "metadata": {
    "tags": []
   },
   "source": [
    "## **8.0 Model Training**"
   ]
  },
  {
   "cell_type": "markdown",
   "id": "ae78c452-64cb-4ac1-afeb-3c69dbc0d97e",
   "metadata": {
    "tags": []
   },
   "source": [
    "## **9.0 Cluster Analysis**"
   ]
  },
  {
   "cell_type": "markdown",
   "id": "6badea0a-361d-410e-b8a5-1b9380119e67",
   "metadata": {
    "jp-MarkdownHeadingCollapsed": true,
    "tags": []
   },
   "source": [
    "## **10.0 Deploy to Production**"
   ]
  }
 ],
 "metadata": {
  "kernelspec": {
   "display_name": "Python 3 (ipykernel)",
   "language": "python",
   "name": "python3"
  },
  "language_info": {
   "codemirror_mode": {
    "name": "ipython",
    "version": 3
   },
   "file_extension": ".py",
   "mimetype": "text/x-python",
   "name": "python",
   "nbconvert_exporter": "python",
   "pygments_lexer": "ipython3",
   "version": "3.7.3"
  }
 },
 "nbformat": 4,
 "nbformat_minor": 5
}
