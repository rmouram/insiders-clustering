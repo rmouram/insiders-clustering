{
 "cells": [
  {
   "cell_type": "markdown",
   "metadata": {
    "tags": []
   },
   "source": [
    "## **0.0 Imports**"
   ]
  },
  {
   "cell_type": "code",
   "execution_count": 70,
   "metadata": {},
   "outputs": [],
   "source": [
    "import re\n",
    "import numpy as np\n",
    "import pandas as pd\n",
    "import seaborn as sns\n",
    "\n",
    "from matplotlib import pyplot as plt\n",
    "from matplotlib import cm\n",
    "\n",
    "from scipy.cluster import hierarchy as hc\n",
    "\n",
    "from sklearn import preprocessing as pp\n",
    "from sklearn import cluster       as c\n",
    "from sklearn import metrics       as m\n",
    "from sklearn import decomposition as dd\n",
    "from sklearn import ensemble      as en\n",
    "from sklearn import preprocessing as pp\n",
    "from sklearn import mixture       as mx\n",
    "from sklearn.neighbors import NearestNeighbors\n",
    "from sklearn.manifold import TSNE\n",
    "\n",
    "from pandas_profiling import ProfileReport\n",
    "from plotly import express as px\n",
    "\n",
    "from yellowbrick.cluster import KElbowVisualizer, SilhouetteVisualizer\n",
    "\n",
    "import umap.umap_ as umap\n",
    "\n",
    "plt.rcParams['figure.figsize'] = [24, 9]"
   ]
  },
  {
   "cell_type": "markdown",
   "metadata": {},
   "source": [
    "### 0.1 Helper Functions"
   ]
  },
  {
   "cell_type": "markdown",
   "metadata": {
    "jp-MarkdownHeadingCollapsed": true,
    "tags": []
   },
   "source": [
    "### 0.2 Load Dataset"
   ]
  },
  {
   "cell_type": "code",
   "execution_count": 2,
   "metadata": {},
   "outputs": [],
   "source": [
    "# laod dataset\n",
    "df_raw = pd.read_csv('../data/Ecommerce.csv', encoding = 'unicode_escape')\n",
    "\n",
    "# drop extra column\n",
    "df_raw = df_raw.drop(columns = ['Unnamed: 8'], axis=1)"
   ]
  },
  {
   "cell_type": "code",
   "execution_count": 3,
   "metadata": {},
   "outputs": [
    {
     "data": {
      "text/plain": [
       "Index(['InvoiceNo', 'StockCode', 'Description', 'Quantity', 'InvoiceDate',\n",
       "       'UnitPrice', 'CustomerID', 'Country'],\n",
       "      dtype='object')"
      ]
     },
     "execution_count": 3,
     "metadata": {},
     "output_type": "execute_result"
    }
   ],
   "source": [
    "df_raw.columns"
   ]
  },
  {
   "cell_type": "markdown",
   "metadata": {
    "jp-MarkdownHeadingCollapsed": true,
    "tags": []
   },
   "source": [
    "## **1.0 Descrição dos dados**"
   ]
  },
  {
   "cell_type": "code",
   "execution_count": 4,
   "metadata": {},
   "outputs": [],
   "source": [
    "df1 = df_raw.copy()"
   ]
  },
  {
   "cell_type": "markdown",
   "metadata": {},
   "source": [
    "### **1.1 Rename columns**"
   ]
  },
  {
   "cell_type": "code",
   "execution_count": 5,
   "metadata": {},
   "outputs": [],
   "source": [
    "cols_new = ['invoice_no', 'stock_code', 'description', 'quantity', 'invoice_date', 'unit_price', 'customer_id', 'country']\n",
    "\n",
    "df1.columns  = cols_new"
   ]
  },
  {
   "cell_type": "markdown",
   "metadata": {},
   "source": [
    "### **1.2 Data dimensions**"
   ]
  },
  {
   "cell_type": "code",
   "execution_count": 6,
   "metadata": {},
   "outputs": [
    {
     "name": "stdout",
     "output_type": "stream",
     "text": [
      "Number of rows: 541909\n",
      "Number of cols: 8\n"
     ]
    }
   ],
   "source": [
    "print('Number of rows: {}'.format(df1.shape[0]))\n",
    "print('Number of cols: {}'.format(df1.shape[1]))"
   ]
  },
  {
   "cell_type": "markdown",
   "metadata": {},
   "source": [
    "### **1.3 Data types**"
   ]
  },
  {
   "cell_type": "code",
   "execution_count": 7,
   "metadata": {},
   "outputs": [
    {
     "data": {
      "text/plain": [
       "invoice_no       object\n",
       "stock_code       object\n",
       "description      object\n",
       "quantity          int64\n",
       "invoice_date     object\n",
       "unit_price      float64\n",
       "customer_id     float64\n",
       "country          object\n",
       "dtype: object"
      ]
     },
     "execution_count": 7,
     "metadata": {},
     "output_type": "execute_result"
    }
   ],
   "source": [
    "df1.dtypes"
   ]
  },
  {
   "cell_type": "code",
   "execution_count": 8,
   "metadata": {},
   "outputs": [
    {
     "data": {
      "text/html": [
       "<div>\n",
       "<style scoped>\n",
       "    .dataframe tbody tr th:only-of-type {\n",
       "        vertical-align: middle;\n",
       "    }\n",
       "\n",
       "    .dataframe tbody tr th {\n",
       "        vertical-align: top;\n",
       "    }\n",
       "\n",
       "    .dataframe thead th {\n",
       "        text-align: right;\n",
       "    }\n",
       "</style>\n",
       "<table border=\"1\" class=\"dataframe\">\n",
       "  <thead>\n",
       "    <tr style=\"text-align: right;\">\n",
       "      <th></th>\n",
       "      <th>invoice_no</th>\n",
       "      <th>stock_code</th>\n",
       "      <th>description</th>\n",
       "      <th>quantity</th>\n",
       "      <th>invoice_date</th>\n",
       "      <th>unit_price</th>\n",
       "      <th>customer_id</th>\n",
       "      <th>country</th>\n",
       "    </tr>\n",
       "  </thead>\n",
       "  <tbody>\n",
       "    <tr>\n",
       "      <th>0</th>\n",
       "      <td>536365</td>\n",
       "      <td>85123A</td>\n",
       "      <td>WHITE HANGING HEART T-LIGHT HOLDER</td>\n",
       "      <td>6</td>\n",
       "      <td>29-Nov-16</td>\n",
       "      <td>2.55</td>\n",
       "      <td>17850.0</td>\n",
       "      <td>United Kingdom</td>\n",
       "    </tr>\n",
       "    <tr>\n",
       "      <th>1</th>\n",
       "      <td>536365</td>\n",
       "      <td>71053</td>\n",
       "      <td>WHITE METAL LANTERN</td>\n",
       "      <td>6</td>\n",
       "      <td>29-Nov-16</td>\n",
       "      <td>3.39</td>\n",
       "      <td>17850.0</td>\n",
       "      <td>United Kingdom</td>\n",
       "    </tr>\n",
       "    <tr>\n",
       "      <th>2</th>\n",
       "      <td>536365</td>\n",
       "      <td>84406B</td>\n",
       "      <td>CREAM CUPID HEARTS COAT HANGER</td>\n",
       "      <td>8</td>\n",
       "      <td>29-Nov-16</td>\n",
       "      <td>2.75</td>\n",
       "      <td>17850.0</td>\n",
       "      <td>United Kingdom</td>\n",
       "    </tr>\n",
       "    <tr>\n",
       "      <th>3</th>\n",
       "      <td>536365</td>\n",
       "      <td>84029G</td>\n",
       "      <td>KNITTED UNION FLAG HOT WATER BOTTLE</td>\n",
       "      <td>6</td>\n",
       "      <td>29-Nov-16</td>\n",
       "      <td>3.39</td>\n",
       "      <td>17850.0</td>\n",
       "      <td>United Kingdom</td>\n",
       "    </tr>\n",
       "    <tr>\n",
       "      <th>4</th>\n",
       "      <td>536365</td>\n",
       "      <td>84029E</td>\n",
       "      <td>RED WOOLLY HOTTIE WHITE HEART.</td>\n",
       "      <td>6</td>\n",
       "      <td>29-Nov-16</td>\n",
       "      <td>3.39</td>\n",
       "      <td>17850.0</td>\n",
       "      <td>United Kingdom</td>\n",
       "    </tr>\n",
       "  </tbody>\n",
       "</table>\n",
       "</div>"
      ],
      "text/plain": [
       "  invoice_no stock_code                          description  quantity  \\\n",
       "0     536365     85123A   WHITE HANGING HEART T-LIGHT HOLDER         6   \n",
       "1     536365      71053                  WHITE METAL LANTERN         6   \n",
       "2     536365     84406B       CREAM CUPID HEARTS COAT HANGER         8   \n",
       "3     536365     84029G  KNITTED UNION FLAG HOT WATER BOTTLE         6   \n",
       "4     536365     84029E       RED WOOLLY HOTTIE WHITE HEART.         6   \n",
       "\n",
       "  invoice_date  unit_price  customer_id         country  \n",
       "0    29-Nov-16        2.55      17850.0  United Kingdom  \n",
       "1    29-Nov-16        3.39      17850.0  United Kingdom  \n",
       "2    29-Nov-16        2.75      17850.0  United Kingdom  \n",
       "3    29-Nov-16        3.39      17850.0  United Kingdom  \n",
       "4    29-Nov-16        3.39      17850.0  United Kingdom  "
      ]
     },
     "execution_count": 8,
     "metadata": {},
     "output_type": "execute_result"
    }
   ],
   "source": [
    "df1.head()"
   ]
  },
  {
   "cell_type": "markdown",
   "metadata": {},
   "source": [
    "### **1.4 Check NA**"
   ]
  },
  {
   "cell_type": "code",
   "execution_count": 9,
   "metadata": {},
   "outputs": [
    {
     "data": {
      "text/plain": [
       "invoice_no           0\n",
       "stock_code           0\n",
       "description       1454\n",
       "quantity             0\n",
       "invoice_date         0\n",
       "unit_price           0\n",
       "customer_id     135080\n",
       "country              0\n",
       "dtype: int64"
      ]
     },
     "execution_count": 9,
     "metadata": {},
     "output_type": "execute_result"
    }
   ],
   "source": [
    "df1.isna().sum()"
   ]
  },
  {
   "cell_type": "markdown",
   "metadata": {},
   "source": [
    "### **1.5 Replace NA**"
   ]
  },
  {
   "cell_type": "code",
   "execution_count": 10,
   "metadata": {},
   "outputs": [],
   "source": [
    "df_missing = df1.loc[df1['customer_id'].isna(), :]\n",
    "df_not_missing = df1.loc[~df1['customer_id'].isna(), :]"
   ]
  },
  {
   "cell_type": "code",
   "execution_count": 11,
   "metadata": {},
   "outputs": [],
   "source": [
    "# create reference\n",
    "df_backup = pd.DataFrame(df_missing['invoice_no'].drop_duplicates())\n",
    "df_backup['customer_id'] = np.arange(19000, 19000+len(df_backup),1)\n",
    "\n",
    "# merge with original dataframe\n",
    "df1 = pd.merge(df1, df_backup, on='invoice_no', how='left')\n",
    "\n",
    "# coalese\n",
    "df1['customer_id'] = df1['customer_id_x'].combine_first(df1['customer_id_y'])\n",
    "\n",
    "# drop extra columns\n",
    "df1 = df1.drop(columns=['customer_id_x','customer_id_y'], axis=1)"
   ]
  },
  {
   "cell_type": "code",
   "execution_count": 12,
   "metadata": {},
   "outputs": [
    {
     "data": {
      "text/plain": [
       "invoice_no         0\n",
       "stock_code         0\n",
       "description     1454\n",
       "quantity           0\n",
       "invoice_date       0\n",
       "unit_price         0\n",
       "country            0\n",
       "customer_id        0\n",
       "dtype: int64"
      ]
     },
     "execution_count": 12,
     "metadata": {},
     "output_type": "execute_result"
    }
   ],
   "source": [
    "df1.isna().sum()"
   ]
  },
  {
   "cell_type": "markdown",
   "metadata": {},
   "source": [
    "### **1.6 Changes dTypes**"
   ]
  },
  {
   "cell_type": "code",
   "execution_count": 13,
   "metadata": {},
   "outputs": [],
   "source": [
    "#customer id\n",
    "df1['customer_id'] = df1['customer_id'].astype(int)"
   ]
  },
  {
   "cell_type": "code",
   "execution_count": 14,
   "metadata": {},
   "outputs": [],
   "source": [
    "# invoice date\n",
    "df1['invoice_date'] = pd.to_datetime(df1['invoice_date'], format = '%d-%b-%y')"
   ]
  },
  {
   "cell_type": "code",
   "execution_count": 15,
   "metadata": {},
   "outputs": [
    {
     "data": {
      "text/plain": [
       "invoice_no              object\n",
       "stock_code              object\n",
       "description             object\n",
       "quantity                 int64\n",
       "invoice_date    datetime64[ns]\n",
       "unit_price             float64\n",
       "country                 object\n",
       "customer_id              int64\n",
       "dtype: object"
      ]
     },
     "execution_count": 15,
     "metadata": {},
     "output_type": "execute_result"
    }
   ],
   "source": [
    "df1.dtypes"
   ]
  },
  {
   "cell_type": "markdown",
   "metadata": {},
   "source": [
    "### **1.7 Descriptive Statistics**"
   ]
  },
  {
   "cell_type": "code",
   "execution_count": 16,
   "metadata": {},
   "outputs": [],
   "source": [
    "num_attributes = df1.select_dtypes(include=['float64', 'int64'])\n",
    "cat_attributes = df1.select_dtypes(exclude=['float64', 'int64', 'datetime64[ns]'])"
   ]
  },
  {
   "cell_type": "markdown",
   "metadata": {},
   "source": [
    "#### **1.7.1 Numerical Attributes**"
   ]
  },
  {
   "cell_type": "code",
   "execution_count": 17,
   "metadata": {},
   "outputs": [
    {
     "data": {
      "text/html": [
       "<div>\n",
       "<style scoped>\n",
       "    .dataframe tbody tr th:only-of-type {\n",
       "        vertical-align: middle;\n",
       "    }\n",
       "\n",
       "    .dataframe tbody tr th {\n",
       "        vertical-align: top;\n",
       "    }\n",
       "\n",
       "    .dataframe thead th {\n",
       "        text-align: right;\n",
       "    }\n",
       "</style>\n",
       "<table border=\"1\" class=\"dataframe\">\n",
       "  <thead>\n",
       "    <tr style=\"text-align: right;\">\n",
       "      <th></th>\n",
       "      <th>attributes</th>\n",
       "      <th>mean</th>\n",
       "      <th>median</th>\n",
       "      <th>std</th>\n",
       "      <th>min</th>\n",
       "      <th>max</th>\n",
       "      <th>range</th>\n",
       "      <th>skew</th>\n",
       "      <th>kurtosis</th>\n",
       "    </tr>\n",
       "  </thead>\n",
       "  <tbody>\n",
       "    <tr>\n",
       "      <th>0</th>\n",
       "      <td>quantity</td>\n",
       "      <td>9.552250</td>\n",
       "      <td>3.00</td>\n",
       "      <td>218.080957</td>\n",
       "      <td>-80995.00</td>\n",
       "      <td>80995.0</td>\n",
       "      <td>80985.447750</td>\n",
       "      <td>-0.264076</td>\n",
       "      <td>119769.160031</td>\n",
       "    </tr>\n",
       "    <tr>\n",
       "      <th>1</th>\n",
       "      <td>unit_price</td>\n",
       "      <td>4.611114</td>\n",
       "      <td>2.08</td>\n",
       "      <td>96.759764</td>\n",
       "      <td>-11062.06</td>\n",
       "      <td>38970.0</td>\n",
       "      <td>38965.388886</td>\n",
       "      <td>186.506972</td>\n",
       "      <td>59005.719097</td>\n",
       "    </tr>\n",
       "    <tr>\n",
       "      <th>2</th>\n",
       "      <td>customer_id</td>\n",
       "      <td>16688.840453</td>\n",
       "      <td>16249.00</td>\n",
       "      <td>2911.408666</td>\n",
       "      <td>12346.00</td>\n",
       "      <td>22709.0</td>\n",
       "      <td>6020.159547</td>\n",
       "      <td>0.487449</td>\n",
       "      <td>-0.804287</td>\n",
       "    </tr>\n",
       "  </tbody>\n",
       "</table>\n",
       "</div>"
      ],
      "text/plain": [
       "    attributes          mean    median          std       min      max  \\\n",
       "0     quantity      9.552250      3.00   218.080957 -80995.00  80995.0   \n",
       "1   unit_price      4.611114      2.08    96.759764 -11062.06  38970.0   \n",
       "2  customer_id  16688.840453  16249.00  2911.408666  12346.00  22709.0   \n",
       "\n",
       "          range        skew       kurtosis  \n",
       "0  80985.447750   -0.264076  119769.160031  \n",
       "1  38965.388886  186.506972   59005.719097  \n",
       "2   6020.159547    0.487449      -0.804287  "
      ]
     },
     "execution_count": 17,
     "metadata": {},
     "output_type": "execute_result"
    }
   ],
   "source": [
    "# central tendency - mean, median\n",
    "c1 = pd.DataFrame(num_attributes.apply(np.mean)).T\n",
    "c2 = pd.DataFrame(num_attributes.apply(np.median)).T\n",
    "\n",
    "# dispersion - min, max, range, standard deviation, skew, kurtosis\n",
    "d1 = pd.DataFrame(num_attributes.apply(np.min)).T\n",
    "d2 = pd.DataFrame(num_attributes.apply(np.max)).T\n",
    "d3 = pd.DataFrame(num_attributes.apply(lambda x: x.max() - x.mean())).T\n",
    "d4 = pd.DataFrame(num_attributes.apply(np.std)).T\n",
    "d5 = pd.DataFrame(num_attributes.apply(lambda x: x.skew())).T\n",
    "d6 = pd.DataFrame(num_attributes.apply(lambda x: x.kurtosis())).T\n",
    "\n",
    "m = pd.concat([c1, c2, d4, d1, d2, d3, d5, d6]).T.reset_index()\n",
    "m.columns = ['attributes', 'mean', 'median', 'std', 'min','max','range','skew','kurtosis']\n",
    "m"
   ]
  },
  {
   "cell_type": "markdown",
   "metadata": {},
   "source": [
    "##### **1.7.1.1 <font color='red'> Numerical Attributes - Investigating** </font>"
   ]
  },
  {
   "cell_type": "markdown",
   "metadata": {},
   "source": [
    "1. Quantidade negativa (pode ser devolução?)\n",
    "2. Preço unitário igual a zero (pode ser promoção?)"
   ]
  },
  {
   "cell_type": "markdown",
   "metadata": {},
   "source": [
    "#### **1.7.2 Categorical Attributes**"
   ]
  },
  {
   "cell_type": "code",
   "execution_count": 18,
   "metadata": {},
   "outputs": [
    {
     "data": {
      "text/html": [
       "<div>\n",
       "<style scoped>\n",
       "    .dataframe tbody tr th:only-of-type {\n",
       "        vertical-align: middle;\n",
       "    }\n",
       "\n",
       "    .dataframe tbody tr th {\n",
       "        vertical-align: top;\n",
       "    }\n",
       "\n",
       "    .dataframe thead th {\n",
       "        text-align: right;\n",
       "    }\n",
       "</style>\n",
       "<table border=\"1\" class=\"dataframe\">\n",
       "  <thead>\n",
       "    <tr style=\"text-align: right;\">\n",
       "      <th></th>\n",
       "      <th>invoice_no</th>\n",
       "      <th>stock_code</th>\n",
       "      <th>description</th>\n",
       "      <th>country</th>\n",
       "    </tr>\n",
       "  </thead>\n",
       "  <tbody>\n",
       "    <tr>\n",
       "      <th>0</th>\n",
       "      <td>536365</td>\n",
       "      <td>85123A</td>\n",
       "      <td>WHITE HANGING HEART T-LIGHT HOLDER</td>\n",
       "      <td>United Kingdom</td>\n",
       "    </tr>\n",
       "    <tr>\n",
       "      <th>1</th>\n",
       "      <td>536365</td>\n",
       "      <td>71053</td>\n",
       "      <td>WHITE METAL LANTERN</td>\n",
       "      <td>United Kingdom</td>\n",
       "    </tr>\n",
       "    <tr>\n",
       "      <th>2</th>\n",
       "      <td>536365</td>\n",
       "      <td>84406B</td>\n",
       "      <td>CREAM CUPID HEARTS COAT HANGER</td>\n",
       "      <td>United Kingdom</td>\n",
       "    </tr>\n",
       "    <tr>\n",
       "      <th>3</th>\n",
       "      <td>536365</td>\n",
       "      <td>84029G</td>\n",
       "      <td>KNITTED UNION FLAG HOT WATER BOTTLE</td>\n",
       "      <td>United Kingdom</td>\n",
       "    </tr>\n",
       "    <tr>\n",
       "      <th>4</th>\n",
       "      <td>536365</td>\n",
       "      <td>84029E</td>\n",
       "      <td>RED WOOLLY HOTTIE WHITE HEART.</td>\n",
       "      <td>United Kingdom</td>\n",
       "    </tr>\n",
       "  </tbody>\n",
       "</table>\n",
       "</div>"
      ],
      "text/plain": [
       "  invoice_no stock_code                          description         country\n",
       "0     536365     85123A   WHITE HANGING HEART T-LIGHT HOLDER  United Kingdom\n",
       "1     536365      71053                  WHITE METAL LANTERN  United Kingdom\n",
       "2     536365     84406B       CREAM CUPID HEARTS COAT HANGER  United Kingdom\n",
       "3     536365     84029G  KNITTED UNION FLAG HOT WATER BOTTLE  United Kingdom\n",
       "4     536365     84029E       RED WOOLLY HOTTIE WHITE HEART.  United Kingdom"
      ]
     },
     "execution_count": 18,
     "metadata": {},
     "output_type": "execute_result"
    }
   ],
   "source": [
    "cat_attributes.head()"
   ]
  },
  {
   "cell_type": "markdown",
   "metadata": {},
   "source": [
    "##### **Invoice no**"
   ]
  },
  {
   "cell_type": "code",
   "execution_count": 19,
   "metadata": {},
   "outputs": [
    {
     "name": "stdout",
     "output_type": "stream",
     "text": [
      "Total number of invoices:9254\n",
      "total number of negative quantity:9251\n"
     ]
    }
   ],
   "source": [
    "# invoice number with letter\n",
    "df_letter_invoices = df1.loc[df1['invoice_no'].apply(lambda x: bool(re.search('[^0-9]+', x))), :].drop_duplicates()\n",
    "df_letter_invoices.head()\n",
    "\n",
    "print('Total number of invoices:{}'.format(len(df_letter_invoices)))\n",
    "print('total number of negative quantity:{}'.format(len(df_letter_invoices[df_letter_invoices['quantity'] < 0])))"
   ]
  },
  {
   "cell_type": "markdown",
   "metadata": {},
   "source": [
    "##### **Stock code**"
   ]
  },
  {
   "cell_type": "code",
   "execution_count": 20,
   "metadata": {},
   "outputs": [
    {
     "name": "stdout",
     "output_type": "stream",
     "text": [
      "Total number of stock code:1124\n",
      "Types stock code with only letter:['POST' 'D' 'DOT' 'M' 'S' 'AMAZONFEE' 'm' 'DCGSSBOY' 'DCGSSGIRL' 'PADS'\n",
      " 'B' 'CRUK']\n"
     ]
    }
   ],
   "source": [
    "# stock code with letter\n",
    "len_stockCode_letter = df1.loc[df1['stock_code'].apply(lambda x: bool(re.search('[^0-9]+', x))), 'stock_code'].drop_duplicates().count()\n",
    "df_onlyLetter_stockCode = df1.loc[df1['stock_code'].apply(lambda x: bool(re.search('^[a-zA-Z]+$', x))), 'stock_code'].unique()\n",
    "print('Total number of stock code:{}'.format(len_stockCode_letter))\n",
    "print('Types stock code with only letter:{}'.format(df_onlyLetter_stockCode))"
   ]
  },
  {
   "cell_type": "markdown",
   "metadata": {},
   "source": [
    "##### **Description**"
   ]
  },
  {
   "cell_type": "markdown",
   "metadata": {},
   "source": [
    "##### **Country**"
   ]
  },
  {
   "cell_type": "code",
   "execution_count": 21,
   "metadata": {},
   "outputs": [
    {
     "data": {
      "text/plain": [
       "array(['United Kingdom', 'France', 'Australia', 'Netherlands', 'Germany',\n",
       "       'Norway', 'EIRE', 'Switzerland', 'Spain', 'Poland', 'Portugal',\n",
       "       'Italy', 'Belgium', 'Lithuania', 'Japan', 'Iceland',\n",
       "       'Channel Islands', 'Denmark', 'Cyprus', 'Sweden', 'Austria',\n",
       "       'Israel', 'Finland', 'Bahrain', 'Greece', 'Hong Kong', 'Singapore',\n",
       "       'Lebanon', 'United Arab Emirates', 'Saudi Arabia',\n",
       "       'Czech Republic', 'Canada', 'Unspecified', 'Brazil', 'USA',\n",
       "       'European Community', 'Malta', 'RSA'], dtype=object)"
      ]
     },
     "execution_count": 21,
     "metadata": {},
     "output_type": "execute_result"
    }
   ],
   "source": [
    "df1['country'].unique()"
   ]
  },
  {
   "cell_type": "code",
   "execution_count": 22,
   "metadata": {},
   "outputs": [
    {
     "data": {
      "text/plain": [
       "United Kingdom          0.914320\n",
       "Germany                 0.017521\n",
       "France                  0.015790\n",
       "EIRE                    0.015124\n",
       "Spain                   0.004674\n",
       "Netherlands             0.004375\n",
       "Belgium                 0.003818\n",
       "Switzerland             0.003694\n",
       "Portugal                0.002803\n",
       "Australia               0.002323\n",
       "Norway                  0.002004\n",
       "Italy                   0.001482\n",
       "Channel Islands         0.001399\n",
       "Finland                 0.001283\n",
       "Cyprus                  0.001148\n",
       "Sweden                  0.000853\n",
       "Unspecified             0.000823\n",
       "Austria                 0.000740\n",
       "Denmark                 0.000718\n",
       "Japan                   0.000661\n",
       "Poland                  0.000629\n",
       "Israel                  0.000548\n",
       "USA                     0.000537\n",
       "Hong Kong               0.000531\n",
       "Singapore               0.000423\n",
       "Iceland                 0.000336\n",
       "Canada                  0.000279\n",
       "Greece                  0.000269\n",
       "Malta                   0.000234\n",
       "United Arab Emirates    0.000125\n",
       "European Community      0.000113\n",
       "RSA                     0.000107\n",
       "Lebanon                 0.000083\n",
       "Lithuania               0.000065\n",
       "Brazil                  0.000059\n",
       "Czech Republic          0.000055\n",
       "Bahrain                 0.000035\n",
       "Saudi Arabia            0.000018\n",
       "Name: country, dtype: float64"
      ]
     },
     "execution_count": 22,
     "metadata": {},
     "output_type": "execute_result"
    }
   ],
   "source": [
    "df1['country'].value_counts(normalize=True)"
   ]
  },
  {
   "cell_type": "code",
   "execution_count": 23,
   "metadata": {},
   "outputs": [
    {
     "data": {
      "text/html": [
       "<div>\n",
       "<style scoped>\n",
       "    .dataframe tbody tr th:only-of-type {\n",
       "        vertical-align: middle;\n",
       "    }\n",
       "\n",
       "    .dataframe tbody tr th {\n",
       "        vertical-align: top;\n",
       "    }\n",
       "\n",
       "    .dataframe thead th {\n",
       "        text-align: right;\n",
       "    }\n",
       "</style>\n",
       "<table border=\"1\" class=\"dataframe\">\n",
       "  <thead>\n",
       "    <tr style=\"text-align: right;\">\n",
       "      <th></th>\n",
       "      <th>country</th>\n",
       "      <th>customer_id</th>\n",
       "    </tr>\n",
       "  </thead>\n",
       "  <tbody>\n",
       "    <tr>\n",
       "      <th>36</th>\n",
       "      <td>United Kingdom</td>\n",
       "      <td>7587</td>\n",
       "    </tr>\n",
       "    <tr>\n",
       "      <th>14</th>\n",
       "      <td>Germany</td>\n",
       "      <td>95</td>\n",
       "    </tr>\n",
       "    <tr>\n",
       "      <th>13</th>\n",
       "      <td>France</td>\n",
       "      <td>90</td>\n",
       "    </tr>\n",
       "    <tr>\n",
       "      <th>10</th>\n",
       "      <td>EIRE</td>\n",
       "      <td>44</td>\n",
       "    </tr>\n",
       "    <tr>\n",
       "      <th>31</th>\n",
       "      <td>Spain</td>\n",
       "      <td>31</td>\n",
       "    </tr>\n",
       "    <tr>\n",
       "      <th>3</th>\n",
       "      <td>Belgium</td>\n",
       "      <td>25</td>\n",
       "    </tr>\n",
       "    <tr>\n",
       "      <th>33</th>\n",
       "      <td>Switzerland</td>\n",
       "      <td>24</td>\n",
       "    </tr>\n",
       "    <tr>\n",
       "      <th>27</th>\n",
       "      <td>Portugal</td>\n",
       "      <td>20</td>\n",
       "    </tr>\n",
       "    <tr>\n",
       "      <th>19</th>\n",
       "      <td>Italy</td>\n",
       "      <td>15</td>\n",
       "    </tr>\n",
       "    <tr>\n",
       "      <th>16</th>\n",
       "      <td>Hong Kong</td>\n",
       "      <td>15</td>\n",
       "    </tr>\n",
       "    <tr>\n",
       "      <th>12</th>\n",
       "      <td>Finland</td>\n",
       "      <td>12</td>\n",
       "    </tr>\n",
       "    <tr>\n",
       "      <th>1</th>\n",
       "      <td>Austria</td>\n",
       "      <td>11</td>\n",
       "    </tr>\n",
       "    <tr>\n",
       "      <th>25</th>\n",
       "      <td>Norway</td>\n",
       "      <td>10</td>\n",
       "    </tr>\n",
       "    <tr>\n",
       "      <th>24</th>\n",
       "      <td>Netherlands</td>\n",
       "      <td>9</td>\n",
       "    </tr>\n",
       "    <tr>\n",
       "      <th>0</th>\n",
       "      <td>Australia</td>\n",
       "      <td>9</td>\n",
       "    </tr>\n",
       "    <tr>\n",
       "      <th>37</th>\n",
       "      <td>Unspecified</td>\n",
       "      <td>9</td>\n",
       "    </tr>\n",
       "    <tr>\n",
       "      <th>9</th>\n",
       "      <td>Denmark</td>\n",
       "      <td>9</td>\n",
       "    </tr>\n",
       "    <tr>\n",
       "      <th>6</th>\n",
       "      <td>Channel Islands</td>\n",
       "      <td>9</td>\n",
       "    </tr>\n",
       "    <tr>\n",
       "      <th>7</th>\n",
       "      <td>Cyprus</td>\n",
       "      <td>8</td>\n",
       "    </tr>\n",
       "    <tr>\n",
       "      <th>32</th>\n",
       "      <td>Sweden</td>\n",
       "      <td>8</td>\n",
       "    </tr>\n",
       "    <tr>\n",
       "      <th>20</th>\n",
       "      <td>Japan</td>\n",
       "      <td>8</td>\n",
       "    </tr>\n",
       "    <tr>\n",
       "      <th>18</th>\n",
       "      <td>Israel</td>\n",
       "      <td>7</td>\n",
       "    </tr>\n",
       "    <tr>\n",
       "      <th>26</th>\n",
       "      <td>Poland</td>\n",
       "      <td>6</td>\n",
       "    </tr>\n",
       "    <tr>\n",
       "      <th>5</th>\n",
       "      <td>Canada</td>\n",
       "      <td>4</td>\n",
       "    </tr>\n",
       "    <tr>\n",
       "      <th>34</th>\n",
       "      <td>USA</td>\n",
       "      <td>4</td>\n",
       "    </tr>\n",
       "    <tr>\n",
       "      <th>2</th>\n",
       "      <td>Bahrain</td>\n",
       "      <td>4</td>\n",
       "    </tr>\n",
       "    <tr>\n",
       "      <th>15</th>\n",
       "      <td>Greece</td>\n",
       "      <td>4</td>\n",
       "    </tr>\n",
       "    <tr>\n",
       "      <th>23</th>\n",
       "      <td>Malta</td>\n",
       "      <td>2</td>\n",
       "    </tr>\n",
       "    <tr>\n",
       "      <th>35</th>\n",
       "      <td>United Arab Emirates</td>\n",
       "      <td>2</td>\n",
       "    </tr>\n",
       "    <tr>\n",
       "      <th>8</th>\n",
       "      <td>Czech Republic</td>\n",
       "      <td>1</td>\n",
       "    </tr>\n",
       "    <tr>\n",
       "      <th>22</th>\n",
       "      <td>Lithuania</td>\n",
       "      <td>1</td>\n",
       "    </tr>\n",
       "    <tr>\n",
       "      <th>11</th>\n",
       "      <td>European Community</td>\n",
       "      <td>1</td>\n",
       "    </tr>\n",
       "    <tr>\n",
       "      <th>21</th>\n",
       "      <td>Lebanon</td>\n",
       "      <td>1</td>\n",
       "    </tr>\n",
       "    <tr>\n",
       "      <th>28</th>\n",
       "      <td>RSA</td>\n",
       "      <td>1</td>\n",
       "    </tr>\n",
       "    <tr>\n",
       "      <th>29</th>\n",
       "      <td>Saudi Arabia</td>\n",
       "      <td>1</td>\n",
       "    </tr>\n",
       "    <tr>\n",
       "      <th>30</th>\n",
       "      <td>Singapore</td>\n",
       "      <td>1</td>\n",
       "    </tr>\n",
       "    <tr>\n",
       "      <th>17</th>\n",
       "      <td>Iceland</td>\n",
       "      <td>1</td>\n",
       "    </tr>\n",
       "    <tr>\n",
       "      <th>4</th>\n",
       "      <td>Brazil</td>\n",
       "      <td>1</td>\n",
       "    </tr>\n",
       "  </tbody>\n",
       "</table>\n",
       "</div>"
      ],
      "text/plain": [
       "                 country  customer_id\n",
       "36        United Kingdom         7587\n",
       "14               Germany           95\n",
       "13                France           90\n",
       "10                  EIRE           44\n",
       "31                 Spain           31\n",
       "3                Belgium           25\n",
       "33           Switzerland           24\n",
       "27              Portugal           20\n",
       "19                 Italy           15\n",
       "16             Hong Kong           15\n",
       "12               Finland           12\n",
       "1                Austria           11\n",
       "25                Norway           10\n",
       "24           Netherlands            9\n",
       "0              Australia            9\n",
       "37           Unspecified            9\n",
       "9                Denmark            9\n",
       "6        Channel Islands            9\n",
       "7                 Cyprus            8\n",
       "32                Sweden            8\n",
       "20                 Japan            8\n",
       "18                Israel            7\n",
       "26                Poland            6\n",
       "5                 Canada            4\n",
       "34                   USA            4\n",
       "2                Bahrain            4\n",
       "15                Greece            4\n",
       "23                 Malta            2\n",
       "35  United Arab Emirates            2\n",
       "8         Czech Republic            1\n",
       "22             Lithuania            1\n",
       "11    European Community            1\n",
       "21               Lebanon            1\n",
       "28                   RSA            1\n",
       "29          Saudi Arabia            1\n",
       "30             Singapore            1\n",
       "17               Iceland            1\n",
       "4                 Brazil            1"
      ]
     },
     "execution_count": 23,
     "metadata": {},
     "output_type": "execute_result"
    }
   ],
   "source": [
    "df1[['customer_id','country']].drop_duplicates().groupby('country').count().reset_index().sort_values('customer_id', ascending=False)"
   ]
  },
  {
   "cell_type": "markdown",
   "metadata": {
    "jp-MarkdownHeadingCollapsed": true,
    "tags": []
   },
   "source": [
    "## **2.0 Filtragem de Variáveis**"
   ]
  },
  {
   "cell_type": "code",
   "execution_count": 24,
   "metadata": {},
   "outputs": [],
   "source": [
    "df2 = df1.copy()"
   ]
  },
  {
   "cell_type": "code",
   "execution_count": 25,
   "metadata": {},
   "outputs": [
    {
     "data": {
      "text/html": [
       "<div>\n",
       "<style scoped>\n",
       "    .dataframe tbody tr th:only-of-type {\n",
       "        vertical-align: middle;\n",
       "    }\n",
       "\n",
       "    .dataframe tbody tr th {\n",
       "        vertical-align: top;\n",
       "    }\n",
       "\n",
       "    .dataframe thead th {\n",
       "        text-align: right;\n",
       "    }\n",
       "</style>\n",
       "<table border=\"1\" class=\"dataframe\">\n",
       "  <thead>\n",
       "    <tr style=\"text-align: right;\">\n",
       "      <th></th>\n",
       "      <th>invoice_no</th>\n",
       "      <th>stock_code</th>\n",
       "      <th>description</th>\n",
       "      <th>quantity</th>\n",
       "      <th>invoice_date</th>\n",
       "      <th>unit_price</th>\n",
       "      <th>country</th>\n",
       "      <th>customer_id</th>\n",
       "    </tr>\n",
       "  </thead>\n",
       "  <tbody>\n",
       "    <tr>\n",
       "      <th>61624</th>\n",
       "      <td>C541433</td>\n",
       "      <td>23166</td>\n",
       "      <td>MEDIUM CERAMIC TOP STORAGE JAR</td>\n",
       "      <td>-74215</td>\n",
       "      <td>2017-01-16</td>\n",
       "      <td>1.04</td>\n",
       "      <td>United Kingdom</td>\n",
       "      <td>12346</td>\n",
       "    </tr>\n",
       "    <tr>\n",
       "      <th>129743</th>\n",
       "      <td>C547388</td>\n",
       "      <td>21914</td>\n",
       "      <td>BLUE HARMONICA IN BOX</td>\n",
       "      <td>-12</td>\n",
       "      <td>2017-03-20</td>\n",
       "      <td>1.25</td>\n",
       "      <td>Norway</td>\n",
       "      <td>12352</td>\n",
       "    </tr>\n",
       "    <tr>\n",
       "      <th>129738</th>\n",
       "      <td>C547388</td>\n",
       "      <td>37448</td>\n",
       "      <td>CERAMIC CAKE DESIGN SPOTTED MUG</td>\n",
       "      <td>-12</td>\n",
       "      <td>2017-03-20</td>\n",
       "      <td>1.49</td>\n",
       "      <td>Norway</td>\n",
       "      <td>12352</td>\n",
       "    </tr>\n",
       "    <tr>\n",
       "      <th>129741</th>\n",
       "      <td>C547388</td>\n",
       "      <td>22645</td>\n",
       "      <td>CERAMIC HEART FAIRY CAKE MONEY BANK</td>\n",
       "      <td>-12</td>\n",
       "      <td>2017-03-20</td>\n",
       "      <td>1.45</td>\n",
       "      <td>Norway</td>\n",
       "      <td>12352</td>\n",
       "    </tr>\n",
       "    <tr>\n",
       "      <th>129739</th>\n",
       "      <td>C547388</td>\n",
       "      <td>22784</td>\n",
       "      <td>LANTERN CREAM GAZEBO</td>\n",
       "      <td>-3</td>\n",
       "      <td>2017-03-20</td>\n",
       "      <td>4.95</td>\n",
       "      <td>Norway</td>\n",
       "      <td>12352</td>\n",
       "    </tr>\n",
       "    <tr>\n",
       "      <th>129742</th>\n",
       "      <td>C547388</td>\n",
       "      <td>22413</td>\n",
       "      <td>METAL SIGN TAKE IT OR LEAVE IT</td>\n",
       "      <td>-6</td>\n",
       "      <td>2017-03-20</td>\n",
       "      <td>2.95</td>\n",
       "      <td>Norway</td>\n",
       "      <td>12352</td>\n",
       "    </tr>\n",
       "    <tr>\n",
       "      <th>106394</th>\n",
       "      <td>C545329</td>\n",
       "      <td>M</td>\n",
       "      <td>Manual</td>\n",
       "      <td>-1</td>\n",
       "      <td>2017-02-27</td>\n",
       "      <td>280.05</td>\n",
       "      <td>Norway</td>\n",
       "      <td>12352</td>\n",
       "    </tr>\n",
       "    <tr>\n",
       "      <th>106395</th>\n",
       "      <td>C545329</td>\n",
       "      <td>M</td>\n",
       "      <td>Manual</td>\n",
       "      <td>-1</td>\n",
       "      <td>2017-02-27</td>\n",
       "      <td>183.75</td>\n",
       "      <td>Norway</td>\n",
       "      <td>12352</td>\n",
       "    </tr>\n",
       "    <tr>\n",
       "      <th>106397</th>\n",
       "      <td>C545330</td>\n",
       "      <td>M</td>\n",
       "      <td>Manual</td>\n",
       "      <td>-1</td>\n",
       "      <td>2017-02-27</td>\n",
       "      <td>376.50</td>\n",
       "      <td>Norway</td>\n",
       "      <td>12352</td>\n",
       "    </tr>\n",
       "    <tr>\n",
       "      <th>129740</th>\n",
       "      <td>C547388</td>\n",
       "      <td>22701</td>\n",
       "      <td>PINK DOG BOWL</td>\n",
       "      <td>-6</td>\n",
       "      <td>2017-03-20</td>\n",
       "      <td>2.95</td>\n",
       "      <td>Norway</td>\n",
       "      <td>12352</td>\n",
       "    </tr>\n",
       "  </tbody>\n",
       "</table>\n",
       "</div>"
      ],
      "text/plain": [
       "       invoice_no stock_code                          description  quantity  \\\n",
       "61624     C541433      23166       MEDIUM CERAMIC TOP STORAGE JAR    -74215   \n",
       "129743    C547388      21914               BLUE HARMONICA IN BOX        -12   \n",
       "129738    C547388      37448      CERAMIC CAKE DESIGN SPOTTED MUG       -12   \n",
       "129741    C547388      22645  CERAMIC HEART FAIRY CAKE MONEY BANK       -12   \n",
       "129739    C547388      22784                LANTERN CREAM GAZEBO         -3   \n",
       "129742    C547388      22413      METAL SIGN TAKE IT OR LEAVE IT         -6   \n",
       "106394    C545329          M                               Manual        -1   \n",
       "106395    C545329          M                               Manual        -1   \n",
       "106397    C545330          M                               Manual        -1   \n",
       "129740    C547388      22701                        PINK DOG BOWL        -6   \n",
       "\n",
       "       invoice_date  unit_price         country  customer_id  \n",
       "61624    2017-01-16        1.04  United Kingdom        12346  \n",
       "129743   2017-03-20        1.25          Norway        12352  \n",
       "129738   2017-03-20        1.49          Norway        12352  \n",
       "129741   2017-03-20        1.45          Norway        12352  \n",
       "129739   2017-03-20        4.95          Norway        12352  \n",
       "129742   2017-03-20        2.95          Norway        12352  \n",
       "106394   2017-02-27      280.05          Norway        12352  \n",
       "106395   2017-02-27      183.75          Norway        12352  \n",
       "106397   2017-02-27      376.50          Norway        12352  \n",
       "129740   2017-03-20        2.95          Norway        12352  "
      ]
     },
     "execution_count": 25,
     "metadata": {},
     "output_type": "execute_result"
    }
   ],
   "source": [
    "df2.loc[df2['quantity'] < 0, :].sort_values(['customer_id', 'description']).head(10)"
   ]
  },
  {
   "cell_type": "code",
   "execution_count": 26,
   "metadata": {},
   "outputs": [],
   "source": [
    "#df1.loc[df1['unit_price'] > 0.03, ['customer_id','description','unit_price']].sort_values('unit_price', ascending=True).head(10)"
   ]
  },
  {
   "cell_type": "code",
   "execution_count": 27,
   "metadata": {},
   "outputs": [],
   "source": [
    "# ======= Numerical Attributes =======\n",
    "# unit price\n",
    "df2 = df2.loc[df2['unit_price'] >= 0.04, :]\n",
    "\n",
    "# ======= Categorical Attributes =======\n",
    "# Stock code\n",
    "df2 = df2[~df2['stock_code'].isin(['POST','D','M','DOT','CRUK', 'PADS'])]\n",
    "\n",
    "# Description\n",
    "df2 = df2.drop(columns='description', axis=1)\n",
    "\n",
    "#country\n",
    "df2 = df2[~df2['country'].isin(['Unspecified','European Community'])]\n",
    "\n",
    "# bad users\n",
    "df2 = df2[~df2['customer_id'].isin(['16446'])]\n",
    "\n",
    "# quantity\n",
    "df2_returns = df2.loc[df2['quantity'] < 0, :]\n",
    "df2_purchases = df2.loc[df2['quantity'] > 0, :]"
   ]
  },
  {
   "cell_type": "code",
   "execution_count": 28,
   "metadata": {},
   "outputs": [
    {
     "data": {
      "text/html": [
       "<div>\n",
       "<style scoped>\n",
       "    .dataframe tbody tr th:only-of-type {\n",
       "        vertical-align: middle;\n",
       "    }\n",
       "\n",
       "    .dataframe tbody tr th {\n",
       "        vertical-align: top;\n",
       "    }\n",
       "\n",
       "    .dataframe thead th {\n",
       "        text-align: right;\n",
       "    }\n",
       "</style>\n",
       "<table border=\"1\" class=\"dataframe\">\n",
       "  <thead>\n",
       "    <tr style=\"text-align: right;\">\n",
       "      <th></th>\n",
       "      <th>invoice_no</th>\n",
       "      <th>stock_code</th>\n",
       "      <th>quantity</th>\n",
       "      <th>invoice_date</th>\n",
       "      <th>unit_price</th>\n",
       "      <th>country</th>\n",
       "      <th>customer_id</th>\n",
       "    </tr>\n",
       "  </thead>\n",
       "  <tbody>\n",
       "    <tr>\n",
       "      <th>154</th>\n",
       "      <td>C536383</td>\n",
       "      <td>35004C</td>\n",
       "      <td>-1</td>\n",
       "      <td>2016-11-29</td>\n",
       "      <td>4.65</td>\n",
       "      <td>United Kingdom</td>\n",
       "      <td>15311</td>\n",
       "    </tr>\n",
       "    <tr>\n",
       "      <th>235</th>\n",
       "      <td>C536391</td>\n",
       "      <td>22556</td>\n",
       "      <td>-12</td>\n",
       "      <td>2016-11-29</td>\n",
       "      <td>1.65</td>\n",
       "      <td>United Kingdom</td>\n",
       "      <td>17548</td>\n",
       "    </tr>\n",
       "    <tr>\n",
       "      <th>236</th>\n",
       "      <td>C536391</td>\n",
       "      <td>21984</td>\n",
       "      <td>-24</td>\n",
       "      <td>2016-11-29</td>\n",
       "      <td>0.29</td>\n",
       "      <td>United Kingdom</td>\n",
       "      <td>17548</td>\n",
       "    </tr>\n",
       "    <tr>\n",
       "      <th>237</th>\n",
       "      <td>C536391</td>\n",
       "      <td>21983</td>\n",
       "      <td>-24</td>\n",
       "      <td>2016-11-29</td>\n",
       "      <td>0.29</td>\n",
       "      <td>United Kingdom</td>\n",
       "      <td>17548</td>\n",
       "    </tr>\n",
       "    <tr>\n",
       "      <th>238</th>\n",
       "      <td>C536391</td>\n",
       "      <td>21980</td>\n",
       "      <td>-24</td>\n",
       "      <td>2016-11-29</td>\n",
       "      <td>0.29</td>\n",
       "      <td>United Kingdom</td>\n",
       "      <td>17548</td>\n",
       "    </tr>\n",
       "  </tbody>\n",
       "</table>\n",
       "</div>"
      ],
      "text/plain": [
       "    invoice_no stock_code  quantity invoice_date  unit_price         country  \\\n",
       "154    C536383     35004C        -1   2016-11-29        4.65  United Kingdom   \n",
       "235    C536391      22556       -12   2016-11-29        1.65  United Kingdom   \n",
       "236    C536391      21984       -24   2016-11-29        0.29  United Kingdom   \n",
       "237    C536391      21983       -24   2016-11-29        0.29  United Kingdom   \n",
       "238    C536391      21980       -24   2016-11-29        0.29  United Kingdom   \n",
       "\n",
       "     customer_id  \n",
       "154        15311  \n",
       "235        17548  \n",
       "236        17548  \n",
       "237        17548  \n",
       "238        17548  "
      ]
     },
     "execution_count": 28,
     "metadata": {},
     "output_type": "execute_result"
    }
   ],
   "source": [
    "df2_returns.head()"
   ]
  },
  {
   "cell_type": "code",
   "execution_count": 29,
   "metadata": {},
   "outputs": [
    {
     "data": {
      "text/html": [
       "<div>\n",
       "<style scoped>\n",
       "    .dataframe tbody tr th:only-of-type {\n",
       "        vertical-align: middle;\n",
       "    }\n",
       "\n",
       "    .dataframe tbody tr th {\n",
       "        vertical-align: top;\n",
       "    }\n",
       "\n",
       "    .dataframe thead th {\n",
       "        text-align: right;\n",
       "    }\n",
       "</style>\n",
       "<table border=\"1\" class=\"dataframe\">\n",
       "  <thead>\n",
       "    <tr style=\"text-align: right;\">\n",
       "      <th></th>\n",
       "      <th>invoice_no</th>\n",
       "      <th>stock_code</th>\n",
       "      <th>quantity</th>\n",
       "      <th>invoice_date</th>\n",
       "      <th>unit_price</th>\n",
       "      <th>country</th>\n",
       "      <th>customer_id</th>\n",
       "    </tr>\n",
       "  </thead>\n",
       "  <tbody>\n",
       "    <tr>\n",
       "      <th>0</th>\n",
       "      <td>536365</td>\n",
       "      <td>85123A</td>\n",
       "      <td>6</td>\n",
       "      <td>2016-11-29</td>\n",
       "      <td>2.55</td>\n",
       "      <td>United Kingdom</td>\n",
       "      <td>17850</td>\n",
       "    </tr>\n",
       "    <tr>\n",
       "      <th>1</th>\n",
       "      <td>536365</td>\n",
       "      <td>71053</td>\n",
       "      <td>6</td>\n",
       "      <td>2016-11-29</td>\n",
       "      <td>3.39</td>\n",
       "      <td>United Kingdom</td>\n",
       "      <td>17850</td>\n",
       "    </tr>\n",
       "    <tr>\n",
       "      <th>2</th>\n",
       "      <td>536365</td>\n",
       "      <td>84406B</td>\n",
       "      <td>8</td>\n",
       "      <td>2016-11-29</td>\n",
       "      <td>2.75</td>\n",
       "      <td>United Kingdom</td>\n",
       "      <td>17850</td>\n",
       "    </tr>\n",
       "    <tr>\n",
       "      <th>3</th>\n",
       "      <td>536365</td>\n",
       "      <td>84029G</td>\n",
       "      <td>6</td>\n",
       "      <td>2016-11-29</td>\n",
       "      <td>3.39</td>\n",
       "      <td>United Kingdom</td>\n",
       "      <td>17850</td>\n",
       "    </tr>\n",
       "    <tr>\n",
       "      <th>4</th>\n",
       "      <td>536365</td>\n",
       "      <td>84029E</td>\n",
       "      <td>6</td>\n",
       "      <td>2016-11-29</td>\n",
       "      <td>3.39</td>\n",
       "      <td>United Kingdom</td>\n",
       "      <td>17850</td>\n",
       "    </tr>\n",
       "  </tbody>\n",
       "</table>\n",
       "</div>"
      ],
      "text/plain": [
       "  invoice_no stock_code  quantity invoice_date  unit_price         country  \\\n",
       "0     536365     85123A         6   2016-11-29        2.55  United Kingdom   \n",
       "1     536365      71053         6   2016-11-29        3.39  United Kingdom   \n",
       "2     536365     84406B         8   2016-11-29        2.75  United Kingdom   \n",
       "3     536365     84029G         6   2016-11-29        3.39  United Kingdom   \n",
       "4     536365     84029E         6   2016-11-29        3.39  United Kingdom   \n",
       "\n",
       "   customer_id  \n",
       "0        17850  \n",
       "1        17850  \n",
       "2        17850  \n",
       "3        17850  \n",
       "4        17850  "
      ]
     },
     "execution_count": 29,
     "metadata": {},
     "output_type": "execute_result"
    }
   ],
   "source": [
    "df2_purchases.head()"
   ]
  },
  {
   "cell_type": "markdown",
   "metadata": {
    "jp-MarkdownHeadingCollapsed": true,
    "tags": []
   },
   "source": [
    "## **3.0 Feature Engineering**"
   ]
  },
  {
   "cell_type": "code",
   "execution_count": 30,
   "metadata": {},
   "outputs": [],
   "source": [
    "df3 = df2.copy()"
   ]
  },
  {
   "cell_type": "markdown",
   "metadata": {
    "tags": []
   },
   "source": [
    "### **3.1 Feature Creation**"
   ]
  },
  {
   "cell_type": "code",
   "execution_count": 31,
   "metadata": {},
   "outputs": [
    {
     "data": {
      "text/html": [
       "<div>\n",
       "<style scoped>\n",
       "    .dataframe tbody tr th:only-of-type {\n",
       "        vertical-align: middle;\n",
       "    }\n",
       "\n",
       "    .dataframe tbody tr th {\n",
       "        vertical-align: top;\n",
       "    }\n",
       "\n",
       "    .dataframe thead th {\n",
       "        text-align: right;\n",
       "    }\n",
       "</style>\n",
       "<table border=\"1\" class=\"dataframe\">\n",
       "  <thead>\n",
       "    <tr style=\"text-align: right;\">\n",
       "      <th></th>\n",
       "      <th>customer_id</th>\n",
       "    </tr>\n",
       "  </thead>\n",
       "  <tbody>\n",
       "    <tr>\n",
       "      <th>0</th>\n",
       "      <td>17850</td>\n",
       "    </tr>\n",
       "    <tr>\n",
       "      <th>1</th>\n",
       "      <td>13047</td>\n",
       "    </tr>\n",
       "    <tr>\n",
       "      <th>2</th>\n",
       "      <td>12583</td>\n",
       "    </tr>\n",
       "    <tr>\n",
       "      <th>3</th>\n",
       "      <td>13748</td>\n",
       "    </tr>\n",
       "    <tr>\n",
       "      <th>4</th>\n",
       "      <td>15100</td>\n",
       "    </tr>\n",
       "  </tbody>\n",
       "</table>\n",
       "</div>"
      ],
      "text/plain": [
       "   customer_id\n",
       "0        17850\n",
       "1        13047\n",
       "2        12583\n",
       "3        13748\n",
       "4        15100"
      ]
     },
     "execution_count": 31,
     "metadata": {},
     "output_type": "execute_result"
    }
   ],
   "source": [
    "# data reference\n",
    "df_ref = df3.drop(['invoice_no', 'stock_code', 'quantity', 'invoice_date', 'unit_price', 'country'], axis = 1).drop_duplicates(ignore_index=True)\n",
    "df_ref.head()"
   ]
  },
  {
   "cell_type": "markdown",
   "metadata": {},
   "source": [
    "#### **3.1.1 Gross Revenue**"
   ]
  },
  {
   "cell_type": "code",
   "execution_count": 32,
   "metadata": {},
   "outputs": [
    {
     "name": "stderr",
     "output_type": "stream",
     "text": [
      "/tmp/ipykernel_4070/4180608733.py:2: SettingWithCopyWarning: \n",
      "A value is trying to be set on a copy of a slice from a DataFrame.\n",
      "Try using .loc[row_indexer,col_indexer] = value instead\n",
      "\n",
      "See the caveats in the documentation: https://pandas.pydata.org/pandas-docs/stable/user_guide/indexing.html#returning-a-view-versus-a-copy\n",
      "  df2_purchases.loc[:,'gross_revenue'] = df2_purchases.loc[:,'quantity'] * df2_purchases.loc[:,'unit_price']\n"
     ]
    },
    {
     "data": {
      "text/plain": [
       "customer_id        0\n",
       "gross_revenue    140\n",
       "dtype: int64"
      ]
     },
     "execution_count": 32,
     "metadata": {},
     "output_type": "execute_result"
    }
   ],
   "source": [
    "# Gross Revenue (Faturamento) quantity * price\n",
    "df2_purchases.loc[:,'gross_revenue'] = df2_purchases.loc[:,'quantity'] * df2_purchases.loc[:,'unit_price']\n",
    "\n",
    "# Monetary\n",
    "df_monetary = df2_purchases.loc[:,['customer_id', 'gross_revenue']].groupby('customer_id').sum().reset_index()\n",
    "df_ref = pd.merge(df_ref, df_monetary, on='customer_id', how='left')\n",
    "df_ref.isna().sum()"
   ]
  },
  {
   "cell_type": "markdown",
   "metadata": {},
   "source": [
    "#### **3.1.2 Recency - Days at last purchase**"
   ]
  },
  {
   "cell_type": "code",
   "execution_count": 33,
   "metadata": {},
   "outputs": [
    {
     "data": {
      "text/plain": [
       "customer_id        0\n",
       "gross_revenue    140\n",
       "recency_days     140\n",
       "dtype: int64"
      ]
     },
     "execution_count": 33,
     "metadata": {},
     "output_type": "execute_result"
    }
   ],
   "source": [
    "# Recency - Last day purchase\n",
    "df_recency = df2_purchases.loc[:,['customer_id', 'invoice_date']].groupby('customer_id').max().reset_index()\n",
    "df_recency['recency_days'] = (df2['invoice_date'].max() - df_recency['invoice_date']).dt.days\n",
    "df_recency = df_recency[['customer_id', 'recency_days']].copy()\n",
    "df_ref = pd.merge(df_ref, df_recency, on='customer_id', how='left')\n",
    "df_ref.isna().sum()"
   ]
  },
  {
   "cell_type": "markdown",
   "metadata": {},
   "source": [
    "#### **3.1.3 Quantity of purchase**"
   ]
  },
  {
   "cell_type": "code",
   "execution_count": 34,
   "metadata": {},
   "outputs": [
    {
     "data": {
      "text/plain": [
       "customer_id        0\n",
       "gross_revenue    140\n",
       "recency_days     140\n",
       "qtde_invoices    140\n",
       "dtype: int64"
      ]
     },
     "execution_count": 34,
     "metadata": {},
     "output_type": "execute_result"
    }
   ],
   "source": [
    "# total quantity of purchase\n",
    "df_qtd = df2_purchases.loc[:,['customer_id', 'invoice_no']].drop_duplicates().groupby('customer_id').count().reset_index().rename(columns={'invoice_no':'qtde_invoices'})\n",
    "df_ref = pd.merge(df_ref, df_qtd, on='customer_id', how='left')\n",
    "df_ref.isna().sum()"
   ]
  },
  {
   "cell_type": "markdown",
   "metadata": {
    "tags": []
   },
   "source": [
    "#### **3.1.4 Quantity of items purchased**"
   ]
  },
  {
   "cell_type": "code",
   "execution_count": 35,
   "metadata": {},
   "outputs": [
    {
     "data": {
      "text/plain": [
       "customer_id        0\n",
       "gross_revenue    140\n",
       "recency_days     140\n",
       "qtde_invoices    140\n",
       "qtde_items       140\n",
       "dtype: int64"
      ]
     },
     "execution_count": 35,
     "metadata": {},
     "output_type": "execute_result"
    }
   ],
   "source": [
    "df_freq = (df2_purchases.loc[:, ['customer_id', 'quantity']].groupby('customer_id').sum()\n",
    "                                                            .reset_index()\n",
    "                                                            .rename(columns={'quantity':'qtde_items'}))\n",
    "\n",
    "df_ref = pd.merge(df_ref, df_freq, on='customer_id', how='left')\n",
    "df_ref.isna().sum()"
   ]
  },
  {
   "cell_type": "markdown",
   "metadata": {
    "tags": []
   },
   "source": [
    "#### **3.1.5 Quantity of products purchased**"
   ]
  },
  {
   "cell_type": "code",
   "execution_count": 36,
   "metadata": {},
   "outputs": [
    {
     "data": {
      "text/plain": [
       "customer_id        0\n",
       "gross_revenue    140\n",
       "recency_days     140\n",
       "qtde_invoices    140\n",
       "qtde_items       140\n",
       "qtde_products    140\n",
       "dtype: int64"
      ]
     },
     "execution_count": 36,
     "metadata": {},
     "output_type": "execute_result"
    }
   ],
   "source": [
    "df_freq = (df2_purchases.loc[:, ['customer_id', 'stock_code']].groupby('customer_id').count()\n",
    "                                                            .reset_index()\n",
    "                                                            .rename(columns={'stock_code':'qtde_products'}))\n",
    "\n",
    "df_ref = pd.merge(df_ref, df_freq, on='customer_id', how='left')\n",
    "df_ref.isna().sum()"
   ]
  },
  {
   "cell_type": "markdown",
   "metadata": {},
   "source": [
    "#### **3.1.5 Avg Ticket Value**"
   ]
  },
  {
   "cell_type": "code",
   "execution_count": 37,
   "metadata": {},
   "outputs": [
    {
     "data": {
      "text/plain": [
       "customer_id        0\n",
       "gross_revenue    140\n",
       "recency_days     140\n",
       "qtde_invoices    140\n",
       "qtde_items       140\n",
       "qtde_products    140\n",
       "avg_ticket       140\n",
       "dtype: int64"
      ]
     },
     "execution_count": 37,
     "metadata": {},
     "output_type": "execute_result"
    }
   ],
   "source": [
    "# Avg Ticket\n",
    "df_avg_ticket = df2_purchases.loc[:,['customer_id', 'gross_revenue']].groupby('customer_id').mean().reset_index().rename(columns={'gross_revenue':'avg_ticket'})\n",
    "df_ref = pd.merge(df_ref, df_avg_ticket, on='customer_id', how='left')\n",
    "df_ref.isna().sum()"
   ]
  },
  {
   "cell_type": "markdown",
   "metadata": {},
   "source": [
    "#### **3.1.6 Avg Recency Days**"
   ]
  },
  {
   "cell_type": "code",
   "execution_count": 38,
   "metadata": {},
   "outputs": [
    {
     "data": {
      "text/plain": [
       "customer_id            0\n",
       "gross_revenue        140\n",
       "recency_days         140\n",
       "qtde_invoices        140\n",
       "qtde_items           140\n",
       "qtde_products        140\n",
       "avg_ticket           140\n",
       "avg_recency_days    2870\n",
       "dtype: int64"
      ]
     },
     "execution_count": 38,
     "metadata": {},
     "output_type": "execute_result"
    }
   ],
   "source": [
    "df_aux = df2[['customer_id', 'invoice_date']].drop_duplicates().sort_values( ['customer_id', 'invoice_date'], ascending=[True, True] )\n",
    "df_aux['previous_customer_id'] = df_aux['customer_id'].shift() # next customer\n",
    "df_aux['previous_date'] = df_aux['invoice_date'].shift() # next invoince date\n",
    "\n",
    "df_aux['avg_recency_days'] = df_aux.apply( lambda x: ( x['invoice_date'] - x['previous_date'] ).days if x['customer_id'] == x['previous_customer_id'] else np.nan, axis=1 )\n",
    "df_aux = df_aux.drop( ['invoice_date', 'previous_customer_id', 'previous_date'], axis=1 ).dropna()\n",
    "\n",
    "# average recency \n",
    "df_avg_recency_days = df_aux.groupby( 'customer_id' ).mean().reset_index()\n",
    "\n",
    "# merge\n",
    "df_ref = pd.merge( df_ref, df_avg_recency_days, on='customer_id', how='left' )\n",
    "df_ref.isna().sum()\n"
   ]
  },
  {
   "cell_type": "markdown",
   "metadata": {
    "tags": []
   },
   "source": [
    "#### **3.1.7 Frequency Purchase**"
   ]
  },
  {
   "cell_type": "code",
   "execution_count": 39,
   "metadata": {},
   "outputs": [
    {
     "data": {
      "text/plain": [
       "customer_id            0\n",
       "gross_revenue        140\n",
       "recency_days         140\n",
       "qtde_invoices        140\n",
       "qtde_items           140\n",
       "qtde_products        140\n",
       "avg_ticket           140\n",
       "avg_recency_days    2870\n",
       "frequency            140\n",
       "dtype: int64"
      ]
     },
     "execution_count": 39,
     "metadata": {},
     "output_type": "execute_result"
    }
   ],
   "source": [
    "df_aux = (df2_purchases[['customer_id','invoice_no','invoice_date']].drop_duplicates()\n",
    "                                                 .groupby('customer_id')\n",
    "                                                 .agg(max_ = ('invoice_date', 'max'),\n",
    "                                                      min_ = ('invoice_date', 'min'),\n",
    "                                                      days_ = ('invoice_date', lambda x: ((x.max() - x.min()).days ) + 1),\n",
    "                                                      buy_ = ('invoice_no', 'count'))).reset_index()\n",
    "\n",
    "# frequency\n",
    "df_aux['frequency'] = df_aux[['days_','buy_']].apply(lambda x: x['buy_']/x['days_'] if x['days_'] != 0 else 0, axis=1)\n",
    "\n",
    "df_ref = pd.merge( df_ref, df_aux[['customer_id', 'frequency']], on='customer_id', how='left' )\n",
    "df_ref.isna().sum()"
   ]
  },
  {
   "cell_type": "markdown",
   "metadata": {
    "tags": []
   },
   "source": [
    "#### **3.1.7 Number of Returns**"
   ]
  },
  {
   "cell_type": "code",
   "execution_count": 40,
   "metadata": {},
   "outputs": [
    {
     "data": {
      "text/plain": [
       "customer_id            0\n",
       "gross_revenue        140\n",
       "recency_days         140\n",
       "qtde_invoices        140\n",
       "qtde_items           140\n",
       "qtde_products        140\n",
       "avg_ticket           140\n",
       "avg_recency_days    2870\n",
       "frequency            140\n",
       "qtde_returns           0\n",
       "dtype: int64"
      ]
     },
     "execution_count": 40,
     "metadata": {},
     "output_type": "execute_result"
    }
   ],
   "source": [
    "df_returns = df2_returns.loc[:,['customer_id','quantity']].groupby('customer_id').sum().reset_index().rename(columns={'quantity':'qtde_returns'})\n",
    "df_returns['qtde_returns'] = df_returns['qtde_returns'] * -1\n",
    "\n",
    "df_ref = pd.merge(df_ref, df_returns, how='left', on='customer_id')\n",
    "df_ref.loc[df_ref['qtde_returns'].isna(), 'qtde_returns'] = 0\n",
    "df_ref.isna().sum()"
   ]
  },
  {
   "cell_type": "markdown",
   "metadata": {},
   "source": [
    "#### **3.1.8 Avg Basket Size - Quantidade itens por cesta**"
   ]
  },
  {
   "cell_type": "code",
   "execution_count": 41,
   "metadata": {},
   "outputs": [
    {
     "data": {
      "text/plain": [
       "customer_id            0\n",
       "gross_revenue        140\n",
       "recency_days         140\n",
       "qtde_invoices        140\n",
       "qtde_items           140\n",
       "qtde_products        140\n",
       "avg_ticket           140\n",
       "avg_recency_days    2870\n",
       "frequency            140\n",
       "qtde_returns           0\n",
       "avg_basket_size      140\n",
       "dtype: int64"
      ]
     },
     "execution_count": 41,
     "metadata": {},
     "output_type": "execute_result"
    }
   ],
   "source": [
    "df_aux = (df2_purchases.loc[:,['customer_id', 'invoice_no', 'quantity']].groupby('customer_id')\n",
    "                                                                        .agg(n_purchase=('invoice_no', 'nunique'),\n",
    "                                                                             n_products=('quantity', 'sum'))\n",
    "                                                                        .reset_index())\n",
    "\n",
    "df_aux['avg_basket_size'] = df_aux['n_products'] / df_aux['n_purchase']\n",
    "\n",
    "df_ref = pd.merge(df_ref, df_aux[['customer_id', 'avg_basket_size']], how='left', on='customer_id')\n",
    "df_ref.isna().sum()"
   ]
  },
  {
   "cell_type": "markdown",
   "metadata": {},
   "source": [
    "#### **3.1.9 Unique Basket Size - Quantidade de produtos distintos por compra**"
   ]
  },
  {
   "cell_type": "code",
   "execution_count": 42,
   "metadata": {},
   "outputs": [
    {
     "data": {
      "text/plain": [
       "customer_id                  0\n",
       "gross_revenue              140\n",
       "recency_days               140\n",
       "qtde_invoices              140\n",
       "qtde_items                 140\n",
       "qtde_products              140\n",
       "avg_ticket                 140\n",
       "avg_recency_days          2870\n",
       "frequency                  140\n",
       "qtde_returns                 0\n",
       "avg_basket_size            140\n",
       "avg_unique_basket_size     140\n",
       "dtype: int64"
      ]
     },
     "execution_count": 42,
     "metadata": {},
     "output_type": "execute_result"
    }
   ],
   "source": [
    "df_aux = (df2_purchases.loc[:,['customer_id', 'invoice_no', 'stock_code']].groupby('customer_id')\n",
    "                                                                          .agg(n_purchase=('invoice_no', 'nunique'),\n",
    "                                                                               n_products=('stock_code', 'count'))\n",
    "                                                                          .reset_index())\n",
    "\n",
    "df_aux['avg_unique_basket_size'] = df_aux['n_products'] / df_aux['n_purchase']\n",
    "\n",
    "df_ref = pd.merge(df_ref, df_aux[['customer_id', 'avg_unique_basket_size']], how='left', on='customer_id')\n",
    "df_ref.isna().sum()"
   ]
  },
  {
   "cell_type": "markdown",
   "metadata": {},
   "source": [
    "### **3.2 Dataframe atual**"
   ]
  },
  {
   "cell_type": "code",
   "execution_count": 43,
   "metadata": {},
   "outputs": [
    {
     "data": {
      "text/html": [
       "<div>\n",
       "<style scoped>\n",
       "    .dataframe tbody tr th:only-of-type {\n",
       "        vertical-align: middle;\n",
       "    }\n",
       "\n",
       "    .dataframe tbody tr th {\n",
       "        vertical-align: top;\n",
       "    }\n",
       "\n",
       "    .dataframe thead th {\n",
       "        text-align: right;\n",
       "    }\n",
       "</style>\n",
       "<table border=\"1\" class=\"dataframe\">\n",
       "  <thead>\n",
       "    <tr style=\"text-align: right;\">\n",
       "      <th></th>\n",
       "      <th>customer_id</th>\n",
       "      <th>gross_revenue</th>\n",
       "      <th>recency_days</th>\n",
       "      <th>qtde_invoices</th>\n",
       "      <th>qtde_items</th>\n",
       "      <th>qtde_products</th>\n",
       "      <th>avg_ticket</th>\n",
       "      <th>avg_recency_days</th>\n",
       "      <th>frequency</th>\n",
       "      <th>qtde_returns</th>\n",
       "      <th>avg_basket_size</th>\n",
       "      <th>avg_unique_basket_size</th>\n",
       "    </tr>\n",
       "  </thead>\n",
       "  <tbody>\n",
       "    <tr>\n",
       "      <th>0</th>\n",
       "      <td>17850</td>\n",
       "      <td>5391.21</td>\n",
       "      <td>372.0</td>\n",
       "      <td>34.0</td>\n",
       "      <td>1733.0</td>\n",
       "      <td>297.0</td>\n",
       "      <td>18.152222</td>\n",
       "      <td>35.500000</td>\n",
       "      <td>17.000000</td>\n",
       "      <td>40.0</td>\n",
       "      <td>50.970588</td>\n",
       "      <td>8.735294</td>\n",
       "    </tr>\n",
       "    <tr>\n",
       "      <th>1</th>\n",
       "      <td>13047</td>\n",
       "      <td>3232.59</td>\n",
       "      <td>56.0</td>\n",
       "      <td>9.0</td>\n",
       "      <td>1390.0</td>\n",
       "      <td>171.0</td>\n",
       "      <td>18.904035</td>\n",
       "      <td>27.250000</td>\n",
       "      <td>0.028302</td>\n",
       "      <td>35.0</td>\n",
       "      <td>154.444444</td>\n",
       "      <td>19.000000</td>\n",
       "    </tr>\n",
       "    <tr>\n",
       "      <th>2</th>\n",
       "      <td>12583</td>\n",
       "      <td>6705.38</td>\n",
       "      <td>2.0</td>\n",
       "      <td>15.0</td>\n",
       "      <td>5028.0</td>\n",
       "      <td>232.0</td>\n",
       "      <td>28.902500</td>\n",
       "      <td>23.187500</td>\n",
       "      <td>0.040323</td>\n",
       "      <td>50.0</td>\n",
       "      <td>335.200000</td>\n",
       "      <td>15.466667</td>\n",
       "    </tr>\n",
       "    <tr>\n",
       "      <th>3</th>\n",
       "      <td>13748</td>\n",
       "      <td>948.25</td>\n",
       "      <td>95.0</td>\n",
       "      <td>5.0</td>\n",
       "      <td>439.0</td>\n",
       "      <td>28.0</td>\n",
       "      <td>33.866071</td>\n",
       "      <td>92.666667</td>\n",
       "      <td>0.017921</td>\n",
       "      <td>0.0</td>\n",
       "      <td>87.800000</td>\n",
       "      <td>5.600000</td>\n",
       "    </tr>\n",
       "    <tr>\n",
       "      <th>4</th>\n",
       "      <td>15100</td>\n",
       "      <td>876.00</td>\n",
       "      <td>333.0</td>\n",
       "      <td>3.0</td>\n",
       "      <td>80.0</td>\n",
       "      <td>3.0</td>\n",
       "      <td>292.000000</td>\n",
       "      <td>8.600000</td>\n",
       "      <td>0.073171</td>\n",
       "      <td>22.0</td>\n",
       "      <td>26.666667</td>\n",
       "      <td>1.000000</td>\n",
       "    </tr>\n",
       "    <tr>\n",
       "      <th>...</th>\n",
       "      <td>...</td>\n",
       "      <td>...</td>\n",
       "      <td>...</td>\n",
       "      <td>...</td>\n",
       "      <td>...</td>\n",
       "      <td>...</td>\n",
       "      <td>...</td>\n",
       "      <td>...</td>\n",
       "      <td>...</td>\n",
       "      <td>...</td>\n",
       "      <td>...</td>\n",
       "      <td>...</td>\n",
       "    </tr>\n",
       "    <tr>\n",
       "      <th>5836</th>\n",
       "      <td>22706</td>\n",
       "      <td>5699.00</td>\n",
       "      <td>1.0</td>\n",
       "      <td>1.0</td>\n",
       "      <td>1747.0</td>\n",
       "      <td>634.0</td>\n",
       "      <td>8.988959</td>\n",
       "      <td>NaN</td>\n",
       "      <td>1.000000</td>\n",
       "      <td>0.0</td>\n",
       "      <td>1747.000000</td>\n",
       "      <td>634.000000</td>\n",
       "    </tr>\n",
       "    <tr>\n",
       "      <th>5837</th>\n",
       "      <td>22707</td>\n",
       "      <td>6756.06</td>\n",
       "      <td>0.0</td>\n",
       "      <td>1.0</td>\n",
       "      <td>2010.0</td>\n",
       "      <td>730.0</td>\n",
       "      <td>9.254877</td>\n",
       "      <td>NaN</td>\n",
       "      <td>1.000000</td>\n",
       "      <td>0.0</td>\n",
       "      <td>2010.000000</td>\n",
       "      <td>730.000000</td>\n",
       "    </tr>\n",
       "    <tr>\n",
       "      <th>5838</th>\n",
       "      <td>22708</td>\n",
       "      <td>3217.20</td>\n",
       "      <td>0.0</td>\n",
       "      <td>1.0</td>\n",
       "      <td>654.0</td>\n",
       "      <td>59.0</td>\n",
       "      <td>54.528814</td>\n",
       "      <td>NaN</td>\n",
       "      <td>1.000000</td>\n",
       "      <td>0.0</td>\n",
       "      <td>654.000000</td>\n",
       "      <td>59.000000</td>\n",
       "    </tr>\n",
       "    <tr>\n",
       "      <th>5839</th>\n",
       "      <td>22709</td>\n",
       "      <td>3950.72</td>\n",
       "      <td>0.0</td>\n",
       "      <td>1.0</td>\n",
       "      <td>731.0</td>\n",
       "      <td>217.0</td>\n",
       "      <td>18.206083</td>\n",
       "      <td>NaN</td>\n",
       "      <td>1.000000</td>\n",
       "      <td>0.0</td>\n",
       "      <td>731.000000</td>\n",
       "      <td>217.000000</td>\n",
       "    </tr>\n",
       "    <tr>\n",
       "      <th>5840</th>\n",
       "      <td>12713</td>\n",
       "      <td>794.55</td>\n",
       "      <td>0.0</td>\n",
       "      <td>1.0</td>\n",
       "      <td>505.0</td>\n",
       "      <td>37.0</td>\n",
       "      <td>21.474324</td>\n",
       "      <td>NaN</td>\n",
       "      <td>1.000000</td>\n",
       "      <td>0.0</td>\n",
       "      <td>505.000000</td>\n",
       "      <td>37.000000</td>\n",
       "    </tr>\n",
       "  </tbody>\n",
       "</table>\n",
       "<p>5841 rows × 12 columns</p>\n",
       "</div>"
      ],
      "text/plain": [
       "      customer_id  gross_revenue  recency_days  qtde_invoices  qtde_items  \\\n",
       "0           17850        5391.21         372.0           34.0      1733.0   \n",
       "1           13047        3232.59          56.0            9.0      1390.0   \n",
       "2           12583        6705.38           2.0           15.0      5028.0   \n",
       "3           13748         948.25          95.0            5.0       439.0   \n",
       "4           15100         876.00         333.0            3.0        80.0   \n",
       "...           ...            ...           ...            ...         ...   \n",
       "5836        22706        5699.00           1.0            1.0      1747.0   \n",
       "5837        22707        6756.06           0.0            1.0      2010.0   \n",
       "5838        22708        3217.20           0.0            1.0       654.0   \n",
       "5839        22709        3950.72           0.0            1.0       731.0   \n",
       "5840        12713         794.55           0.0            1.0       505.0   \n",
       "\n",
       "      qtde_products  avg_ticket  avg_recency_days  frequency  qtde_returns  \\\n",
       "0             297.0   18.152222         35.500000  17.000000          40.0   \n",
       "1             171.0   18.904035         27.250000   0.028302          35.0   \n",
       "2             232.0   28.902500         23.187500   0.040323          50.0   \n",
       "3              28.0   33.866071         92.666667   0.017921           0.0   \n",
       "4               3.0  292.000000          8.600000   0.073171          22.0   \n",
       "...             ...         ...               ...        ...           ...   \n",
       "5836          634.0    8.988959               NaN   1.000000           0.0   \n",
       "5837          730.0    9.254877               NaN   1.000000           0.0   \n",
       "5838           59.0   54.528814               NaN   1.000000           0.0   \n",
       "5839          217.0   18.206083               NaN   1.000000           0.0   \n",
       "5840           37.0   21.474324               NaN   1.000000           0.0   \n",
       "\n",
       "      avg_basket_size  avg_unique_basket_size  \n",
       "0           50.970588                8.735294  \n",
       "1          154.444444               19.000000  \n",
       "2          335.200000               15.466667  \n",
       "3           87.800000                5.600000  \n",
       "4           26.666667                1.000000  \n",
       "...               ...                     ...  \n",
       "5836      1747.000000              634.000000  \n",
       "5837      2010.000000              730.000000  \n",
       "5838       654.000000               59.000000  \n",
       "5839       731.000000              217.000000  \n",
       "5840       505.000000               37.000000  \n",
       "\n",
       "[5841 rows x 12 columns]"
      ]
     },
     "execution_count": 43,
     "metadata": {},
     "output_type": "execute_result"
    }
   ],
   "source": [
    "df_ref"
   ]
  },
  {
   "cell_type": "markdown",
   "metadata": {
    "jp-MarkdownHeadingCollapsed": true,
    "tags": []
   },
   "source": [
    "## **4.0 EDA (Exploratory Data Analysis)**"
   ]
  },
  {
   "cell_type": "code",
   "execution_count": 87,
   "metadata": {},
   "outputs": [
    {
     "data": {
      "text/plain": [
       "customer_id               0\n",
       "gross_revenue             0\n",
       "recency_days              0\n",
       "qtde_invoices             0\n",
       "qtde_items                0\n",
       "qtde_products             0\n",
       "avg_ticket                0\n",
       "avg_recency_days          0\n",
       "frequency                 0\n",
       "qtde_returns              0\n",
       "avg_basket_size           0\n",
       "avg_unique_basket_size    0\n",
       "dtype: int64"
      ]
     },
     "execution_count": 87,
     "metadata": {},
     "output_type": "execute_result"
    }
   ],
   "source": [
    "df4 = df_ref.dropna()\n",
    "df4.isna().sum()"
   ]
  },
  {
   "cell_type": "code",
   "execution_count": 45,
   "metadata": {},
   "outputs": [
    {
     "data": {
      "text/plain": [
       "(2969, 12)"
      ]
     },
     "execution_count": 45,
     "metadata": {},
     "output_type": "execute_result"
    }
   ],
   "source": [
    "df4.shape"
   ]
  },
  {
   "cell_type": "code",
   "execution_count": 46,
   "metadata": {},
   "outputs": [
    {
     "data": {
      "text/html": [
       "<div>\n",
       "<style scoped>\n",
       "    .dataframe tbody tr th:only-of-type {\n",
       "        vertical-align: middle;\n",
       "    }\n",
       "\n",
       "    .dataframe tbody tr th {\n",
       "        vertical-align: top;\n",
       "    }\n",
       "\n",
       "    .dataframe thead th {\n",
       "        text-align: right;\n",
       "    }\n",
       "</style>\n",
       "<table border=\"1\" class=\"dataframe\">\n",
       "  <thead>\n",
       "    <tr style=\"text-align: right;\">\n",
       "      <th></th>\n",
       "      <th>customer_id</th>\n",
       "      <th>gross_revenue</th>\n",
       "      <th>recency_days</th>\n",
       "      <th>qtde_invoices</th>\n",
       "      <th>qtde_items</th>\n",
       "      <th>qtde_products</th>\n",
       "      <th>avg_ticket</th>\n",
       "      <th>avg_recency_days</th>\n",
       "      <th>frequency</th>\n",
       "      <th>qtde_returns</th>\n",
       "      <th>avg_basket_size</th>\n",
       "      <th>avg_unique_basket_size</th>\n",
       "    </tr>\n",
       "  </thead>\n",
       "  <tbody>\n",
       "    <tr>\n",
       "      <th>0</th>\n",
       "      <td>17850</td>\n",
       "      <td>5391.21</td>\n",
       "      <td>372.0</td>\n",
       "      <td>34.0</td>\n",
       "      <td>1733.0</td>\n",
       "      <td>297.0</td>\n",
       "      <td>18.152222</td>\n",
       "      <td>35.500000</td>\n",
       "      <td>17.000000</td>\n",
       "      <td>40.0</td>\n",
       "      <td>50.970588</td>\n",
       "      <td>8.735294</td>\n",
       "    </tr>\n",
       "    <tr>\n",
       "      <th>1</th>\n",
       "      <td>13047</td>\n",
       "      <td>3232.59</td>\n",
       "      <td>56.0</td>\n",
       "      <td>9.0</td>\n",
       "      <td>1390.0</td>\n",
       "      <td>171.0</td>\n",
       "      <td>18.904035</td>\n",
       "      <td>27.250000</td>\n",
       "      <td>0.028302</td>\n",
       "      <td>35.0</td>\n",
       "      <td>154.444444</td>\n",
       "      <td>19.000000</td>\n",
       "    </tr>\n",
       "    <tr>\n",
       "      <th>2</th>\n",
       "      <td>12583</td>\n",
       "      <td>6705.38</td>\n",
       "      <td>2.0</td>\n",
       "      <td>15.0</td>\n",
       "      <td>5028.0</td>\n",
       "      <td>232.0</td>\n",
       "      <td>28.902500</td>\n",
       "      <td>23.187500</td>\n",
       "      <td>0.040323</td>\n",
       "      <td>50.0</td>\n",
       "      <td>335.200000</td>\n",
       "      <td>15.466667</td>\n",
       "    </tr>\n",
       "    <tr>\n",
       "      <th>3</th>\n",
       "      <td>13748</td>\n",
       "      <td>948.25</td>\n",
       "      <td>95.0</td>\n",
       "      <td>5.0</td>\n",
       "      <td>439.0</td>\n",
       "      <td>28.0</td>\n",
       "      <td>33.866071</td>\n",
       "      <td>92.666667</td>\n",
       "      <td>0.017921</td>\n",
       "      <td>0.0</td>\n",
       "      <td>87.800000</td>\n",
       "      <td>5.600000</td>\n",
       "    </tr>\n",
       "    <tr>\n",
       "      <th>4</th>\n",
       "      <td>15100</td>\n",
       "      <td>876.00</td>\n",
       "      <td>333.0</td>\n",
       "      <td>3.0</td>\n",
       "      <td>80.0</td>\n",
       "      <td>3.0</td>\n",
       "      <td>292.000000</td>\n",
       "      <td>8.600000</td>\n",
       "      <td>0.073171</td>\n",
       "      <td>22.0</td>\n",
       "      <td>26.666667</td>\n",
       "      <td>1.000000</td>\n",
       "    </tr>\n",
       "  </tbody>\n",
       "</table>\n",
       "</div>"
      ],
      "text/plain": [
       "   customer_id  gross_revenue  recency_days  qtde_invoices  qtde_items  \\\n",
       "0        17850        5391.21         372.0           34.0      1733.0   \n",
       "1        13047        3232.59          56.0            9.0      1390.0   \n",
       "2        12583        6705.38           2.0           15.0      5028.0   \n",
       "3        13748         948.25          95.0            5.0       439.0   \n",
       "4        15100         876.00         333.0            3.0        80.0   \n",
       "\n",
       "   qtde_products  avg_ticket  avg_recency_days  frequency  qtde_returns  \\\n",
       "0          297.0   18.152222         35.500000  17.000000          40.0   \n",
       "1          171.0   18.904035         27.250000   0.028302          35.0   \n",
       "2          232.0   28.902500         23.187500   0.040323          50.0   \n",
       "3           28.0   33.866071         92.666667   0.017921           0.0   \n",
       "4            3.0  292.000000          8.600000   0.073171          22.0   \n",
       "\n",
       "   avg_basket_size  avg_unique_basket_size  \n",
       "0        50.970588                8.735294  \n",
       "1       154.444444               19.000000  \n",
       "2       335.200000               15.466667  \n",
       "3        87.800000                5.600000  \n",
       "4        26.666667                1.000000  "
      ]
     },
     "execution_count": 46,
     "metadata": {},
     "output_type": "execute_result"
    }
   ],
   "source": [
    "df4.head()"
   ]
  },
  {
   "cell_type": "markdown",
   "metadata": {
    "jp-MarkdownHeadingCollapsed": true,
    "tags": []
   },
   "source": [
    "### **4.1 Univariate Analysis**"
   ]
  },
  {
   "cell_type": "markdown",
   "metadata": {},
   "source": [
    "**Notes**\n",
    "1. Clusters coesos e separados\n",
    "2. Métricas\n",
    "    - min, max, range (Dispersão)\n",
    "    - média e mediana (Tendencia central)\n",
    "    - Desvio padrão e Variância\n",
    "    - Coeficiente de variação (desvio-padrao/media)\n",
    "    - Distribuição"
   ]
  },
  {
   "cell_type": "code",
   "execution_count": 47,
   "metadata": {},
   "outputs": [],
   "source": [
    "#profile = ProfileReport(df4)\n",
    "#profile.to_file('output.html')"
   ]
  },
  {
   "cell_type": "markdown",
   "metadata": {
    "tags": []
   },
   "source": [
    "#### **4.1.1 Gross Revenue**"
   ]
  },
  {
   "cell_type": "code",
   "execution_count": 48,
   "metadata": {},
   "outputs": [
    {
     "data": {
      "text/html": [
       "<div>\n",
       "<style scoped>\n",
       "    .dataframe tbody tr th:only-of-type {\n",
       "        vertical-align: middle;\n",
       "    }\n",
       "\n",
       "    .dataframe tbody tr th {\n",
       "        vertical-align: top;\n",
       "    }\n",
       "\n",
       "    .dataframe thead th {\n",
       "        text-align: right;\n",
       "    }\n",
       "</style>\n",
       "<table border=\"1\" class=\"dataframe\">\n",
       "  <thead>\n",
       "    <tr style=\"text-align: right;\">\n",
       "      <th></th>\n",
       "      <th>customer_id</th>\n",
       "      <th>gross_revenue</th>\n",
       "      <th>recency_days</th>\n",
       "      <th>qtde_invoices</th>\n",
       "      <th>qtde_items</th>\n",
       "      <th>qtde_products</th>\n",
       "      <th>avg_ticket</th>\n",
       "      <th>avg_recency_days</th>\n",
       "      <th>frequency</th>\n",
       "      <th>qtde_returns</th>\n",
       "      <th>avg_basket_size</th>\n",
       "      <th>avg_unique_basket_size</th>\n",
       "    </tr>\n",
       "  </thead>\n",
       "  <tbody>\n",
       "    <tr>\n",
       "      <th>1025</th>\n",
       "      <td>14646</td>\n",
       "      <td>279138.02</td>\n",
       "      <td>1.0</td>\n",
       "      <td>72.0</td>\n",
       "      <td>196844.0</td>\n",
       "      <td>2060.0</td>\n",
       "      <td>135.503893</td>\n",
       "      <td>7.844444</td>\n",
       "      <td>0.203390</td>\n",
       "      <td>288.0</td>\n",
       "      <td>2733.944444</td>\n",
       "      <td>28.611111</td>\n",
       "    </tr>\n",
       "    <tr>\n",
       "      <th>500</th>\n",
       "      <td>18102</td>\n",
       "      <td>259657.30</td>\n",
       "      <td>0.0</td>\n",
       "      <td>60.0</td>\n",
       "      <td>64124.0</td>\n",
       "      <td>431.0</td>\n",
       "      <td>602.453132</td>\n",
       "      <td>14.680000</td>\n",
       "      <td>0.163043</td>\n",
       "      <td>0.0</td>\n",
       "      <td>1068.733333</td>\n",
       "      <td>7.183333</td>\n",
       "    </tr>\n",
       "    <tr>\n",
       "      <th>433</th>\n",
       "      <td>17450</td>\n",
       "      <td>194550.79</td>\n",
       "      <td>8.0</td>\n",
       "      <td>46.0</td>\n",
       "      <td>69993.0</td>\n",
       "      <td>337.0</td>\n",
       "      <td>577.302047</td>\n",
       "      <td>12.821429</td>\n",
       "      <td>0.127778</td>\n",
       "      <td>952.0</td>\n",
       "      <td>1521.586957</td>\n",
       "      <td>7.326087</td>\n",
       "    </tr>\n",
       "    <tr>\n",
       "      <th>3364</th>\n",
       "      <td>16446</td>\n",
       "      <td>168472.50</td>\n",
       "      <td>0.0</td>\n",
       "      <td>2.0</td>\n",
       "      <td>80997.0</td>\n",
       "      <td>3.0</td>\n",
       "      <td>56157.500000</td>\n",
       "      <td>205.000000</td>\n",
       "      <td>0.009709</td>\n",
       "      <td>80995.0</td>\n",
       "      <td>40498.500000</td>\n",
       "      <td>1.500000</td>\n",
       "    </tr>\n",
       "    <tr>\n",
       "      <th>66</th>\n",
       "      <td>14911</td>\n",
       "      <td>140450.72</td>\n",
       "      <td>1.0</td>\n",
       "      <td>199.0</td>\n",
       "      <td>80263.0</td>\n",
       "      <td>5673.0</td>\n",
       "      <td>24.757751</td>\n",
       "      <td>2.601399</td>\n",
       "      <td>0.533512</td>\n",
       "      <td>3332.0</td>\n",
       "      <td>403.331658</td>\n",
       "      <td>28.507538</td>\n",
       "    </tr>\n",
       "  </tbody>\n",
       "</table>\n",
       "</div>"
      ],
      "text/plain": [
       "      customer_id  gross_revenue  recency_days  qtde_invoices  qtde_items  \\\n",
       "1025        14646      279138.02           1.0           72.0    196844.0   \n",
       "500         18102      259657.30           0.0           60.0     64124.0   \n",
       "433         17450      194550.79           8.0           46.0     69993.0   \n",
       "3364        16446      168472.50           0.0            2.0     80997.0   \n",
       "66          14911      140450.72           1.0          199.0     80263.0   \n",
       "\n",
       "      qtde_products    avg_ticket  avg_recency_days  frequency  qtde_returns  \\\n",
       "1025         2060.0    135.503893          7.844444   0.203390         288.0   \n",
       "500           431.0    602.453132         14.680000   0.163043           0.0   \n",
       "433           337.0    577.302047         12.821429   0.127778         952.0   \n",
       "3364            3.0  56157.500000        205.000000   0.009709       80995.0   \n",
       "66           5673.0     24.757751          2.601399   0.533512        3332.0   \n",
       "\n",
       "      avg_basket_size  avg_unique_basket_size  \n",
       "1025      2733.944444               28.611111  \n",
       "500       1068.733333                7.183333  \n",
       "433       1521.586957                7.326087  \n",
       "3364     40498.500000                1.500000  \n",
       "66         403.331658               28.507538  "
      ]
     },
     "execution_count": 48,
     "metadata": {},
     "output_type": "execute_result"
    }
   ],
   "source": [
    "df4.sort_values('gross_revenue', ascending=False).head()"
   ]
  },
  {
   "cell_type": "code",
   "execution_count": 49,
   "metadata": {},
   "outputs": [
    {
     "data": {
      "text/html": [
       "<div>\n",
       "<style scoped>\n",
       "    .dataframe tbody tr th:only-of-type {\n",
       "        vertical-align: middle;\n",
       "    }\n",
       "\n",
       "    .dataframe tbody tr th {\n",
       "        vertical-align: top;\n",
       "    }\n",
       "\n",
       "    .dataframe thead th {\n",
       "        text-align: right;\n",
       "    }\n",
       "</style>\n",
       "<table border=\"1\" class=\"dataframe\">\n",
       "  <thead>\n",
       "    <tr style=\"text-align: right;\">\n",
       "      <th></th>\n",
       "      <th>invoice_no</th>\n",
       "      <th>stock_code</th>\n",
       "      <th>quantity</th>\n",
       "      <th>invoice_date</th>\n",
       "      <th>unit_price</th>\n",
       "      <th>country</th>\n",
       "      <th>customer_id</th>\n",
       "    </tr>\n",
       "  </thead>\n",
       "  <tbody>\n",
       "    <tr>\n",
       "      <th>37952</th>\n",
       "      <td>539491</td>\n",
       "      <td>21981</td>\n",
       "      <td>12</td>\n",
       "      <td>2016-12-18</td>\n",
       "      <td>0.29</td>\n",
       "      <td>Netherlands</td>\n",
       "      <td>14646</td>\n",
       "    </tr>\n",
       "    <tr>\n",
       "      <th>37953</th>\n",
       "      <td>539491</td>\n",
       "      <td>21986</td>\n",
       "      <td>12</td>\n",
       "      <td>2016-12-18</td>\n",
       "      <td>0.29</td>\n",
       "      <td>Netherlands</td>\n",
       "      <td>14646</td>\n",
       "    </tr>\n",
       "    <tr>\n",
       "      <th>37954</th>\n",
       "      <td>539491</td>\n",
       "      <td>22720</td>\n",
       "      <td>2</td>\n",
       "      <td>2016-12-18</td>\n",
       "      <td>4.95</td>\n",
       "      <td>Netherlands</td>\n",
       "      <td>14646</td>\n",
       "    </tr>\n",
       "    <tr>\n",
       "      <th>37955</th>\n",
       "      <td>539491</td>\n",
       "      <td>21931</td>\n",
       "      <td>1</td>\n",
       "      <td>2016-12-18</td>\n",
       "      <td>1.95</td>\n",
       "      <td>Netherlands</td>\n",
       "      <td>14646</td>\n",
       "    </tr>\n",
       "    <tr>\n",
       "      <th>37956</th>\n",
       "      <td>539491</td>\n",
       "      <td>22613</td>\n",
       "      <td>2</td>\n",
       "      <td>2016-12-18</td>\n",
       "      <td>0.85</td>\n",
       "      <td>Netherlands</td>\n",
       "      <td>14646</td>\n",
       "    </tr>\n",
       "  </tbody>\n",
       "</table>\n",
       "</div>"
      ],
      "text/plain": [
       "      invoice_no stock_code  quantity invoice_date  unit_price      country  \\\n",
       "37952     539491      21981        12   2016-12-18        0.29  Netherlands   \n",
       "37953     539491      21986        12   2016-12-18        0.29  Netherlands   \n",
       "37954     539491      22720         2   2016-12-18        4.95  Netherlands   \n",
       "37955     539491      21931         1   2016-12-18        1.95  Netherlands   \n",
       "37956     539491      22613         2   2016-12-18        0.85  Netherlands   \n",
       "\n",
       "       customer_id  \n",
       "37952        14646  \n",
       "37953        14646  \n",
       "37954        14646  \n",
       "37955        14646  \n",
       "37956        14646  "
      ]
     },
     "execution_count": 49,
     "metadata": {},
     "output_type": "execute_result"
    }
   ],
   "source": [
    "df3[df3['customer_id'] == 14646].head()"
   ]
  },
  {
   "cell_type": "code",
   "execution_count": 50,
   "metadata": {},
   "outputs": [
    {
     "data": {
      "text/plain": [
       "278778.02"
      ]
     },
     "execution_count": 50,
     "metadata": {},
     "output_type": "execute_result"
    }
   ],
   "source": [
    "np.sum(df3.loc[df3['customer_id']==14646, 'quantity'] * df3.loc[df3['customer_id']==14646, 'unit_price'])"
   ]
  },
  {
   "cell_type": "markdown",
   "metadata": {
    "tags": []
   },
   "source": [
    "#### **4.1.2 Avg Ticket**"
   ]
  },
  {
   "cell_type": "code",
   "execution_count": 51,
   "metadata": {},
   "outputs": [
    {
     "data": {
      "text/html": [
       "<div>\n",
       "<style scoped>\n",
       "    .dataframe tbody tr th:only-of-type {\n",
       "        vertical-align: middle;\n",
       "    }\n",
       "\n",
       "    .dataframe tbody tr th {\n",
       "        vertical-align: top;\n",
       "    }\n",
       "\n",
       "    .dataframe thead th {\n",
       "        text-align: right;\n",
       "    }\n",
       "</style>\n",
       "<table border=\"1\" class=\"dataframe\">\n",
       "  <thead>\n",
       "    <tr style=\"text-align: right;\">\n",
       "      <th></th>\n",
       "      <th>customer_id</th>\n",
       "      <th>gross_revenue</th>\n",
       "      <th>recency_days</th>\n",
       "      <th>qtde_invoices</th>\n",
       "      <th>qtde_items</th>\n",
       "      <th>qtde_products</th>\n",
       "      <th>avg_ticket</th>\n",
       "      <th>avg_recency_days</th>\n",
       "      <th>frequency</th>\n",
       "      <th>qtde_returns</th>\n",
       "      <th>avg_basket_size</th>\n",
       "      <th>avg_unique_basket_size</th>\n",
       "    </tr>\n",
       "  </thead>\n",
       "  <tbody>\n",
       "    <tr>\n",
       "      <th>3364</th>\n",
       "      <td>16446</td>\n",
       "      <td>168472.5</td>\n",
       "      <td>0.0</td>\n",
       "      <td>2.0</td>\n",
       "      <td>80997.0</td>\n",
       "      <td>3.0</td>\n",
       "      <td>56157.5</td>\n",
       "      <td>205.0</td>\n",
       "      <td>0.009709</td>\n",
       "      <td>80995.0</td>\n",
       "      <td>40498.5</td>\n",
       "      <td>1.5</td>\n",
       "    </tr>\n",
       "  </tbody>\n",
       "</table>\n",
       "</div>"
      ],
      "text/plain": [
       "      customer_id  gross_revenue  recency_days  qtde_invoices  qtde_items  \\\n",
       "3364        16446       168472.5           0.0            2.0     80997.0   \n",
       "\n",
       "      qtde_products  avg_ticket  avg_recency_days  frequency  qtde_returns  \\\n",
       "3364            3.0     56157.5             205.0   0.009709       80995.0   \n",
       "\n",
       "      avg_basket_size  avg_unique_basket_size  \n",
       "3364          40498.5                     1.5  "
      ]
     },
     "execution_count": 51,
     "metadata": {},
     "output_type": "execute_result"
    }
   ],
   "source": [
    "df4[df4['avg_ticket'] == 56157.5]"
   ]
  },
  {
   "cell_type": "code",
   "execution_count": 52,
   "metadata": {},
   "outputs": [
    {
     "data": {
      "text/html": [
       "<div>\n",
       "<style scoped>\n",
       "    .dataframe tbody tr th:only-of-type {\n",
       "        vertical-align: middle;\n",
       "    }\n",
       "\n",
       "    .dataframe tbody tr th {\n",
       "        vertical-align: top;\n",
       "    }\n",
       "\n",
       "    .dataframe thead th {\n",
       "        text-align: right;\n",
       "    }\n",
       "</style>\n",
       "<table border=\"1\" class=\"dataframe\">\n",
       "  <thead>\n",
       "    <tr style=\"text-align: right;\">\n",
       "      <th></th>\n",
       "      <th>invoice_no</th>\n",
       "      <th>stock_code</th>\n",
       "      <th>quantity</th>\n",
       "      <th>invoice_date</th>\n",
       "      <th>unit_price</th>\n",
       "      <th>country</th>\n",
       "      <th>customer_id</th>\n",
       "    </tr>\n",
       "  </thead>\n",
       "  <tbody>\n",
       "    <tr>\n",
       "      <th>194354</th>\n",
       "      <td>553573</td>\n",
       "      <td>22980</td>\n",
       "      <td>1</td>\n",
       "      <td>2017-05-16</td>\n",
       "      <td>1.65</td>\n",
       "      <td>United Kingdom</td>\n",
       "      <td>16446</td>\n",
       "    </tr>\n",
       "    <tr>\n",
       "      <th>194355</th>\n",
       "      <td>553573</td>\n",
       "      <td>22982</td>\n",
       "      <td>1</td>\n",
       "      <td>2017-05-16</td>\n",
       "      <td>1.25</td>\n",
       "      <td>United Kingdom</td>\n",
       "      <td>16446</td>\n",
       "    </tr>\n",
       "    <tr>\n",
       "      <th>540421</th>\n",
       "      <td>581483</td>\n",
       "      <td>23843</td>\n",
       "      <td>80995</td>\n",
       "      <td>2017-12-07</td>\n",
       "      <td>2.08</td>\n",
       "      <td>United Kingdom</td>\n",
       "      <td>16446</td>\n",
       "    </tr>\n",
       "    <tr>\n",
       "      <th>540422</th>\n",
       "      <td>C581484</td>\n",
       "      <td>23843</td>\n",
       "      <td>-80995</td>\n",
       "      <td>2017-12-07</td>\n",
       "      <td>2.08</td>\n",
       "      <td>United Kingdom</td>\n",
       "      <td>16446</td>\n",
       "    </tr>\n",
       "  </tbody>\n",
       "</table>\n",
       "</div>"
      ],
      "text/plain": [
       "       invoice_no stock_code  quantity invoice_date  unit_price  \\\n",
       "194354     553573      22980         1   2017-05-16        1.65   \n",
       "194355     553573      22982         1   2017-05-16        1.25   \n",
       "540421     581483      23843     80995   2017-12-07        2.08   \n",
       "540422    C581484      23843    -80995   2017-12-07        2.08   \n",
       "\n",
       "               country  customer_id  \n",
       "194354  United Kingdom        16446  \n",
       "194355  United Kingdom        16446  \n",
       "540421  United Kingdom        16446  \n",
       "540422  United Kingdom        16446  "
      ]
     },
     "execution_count": 52,
     "metadata": {},
     "output_type": "execute_result"
    }
   ],
   "source": [
    "df3[df3['customer_id'] == 16446]"
   ]
  },
  {
   "cell_type": "markdown",
   "metadata": {},
   "source": [
    "\n",
    "Ticket Médio está contando com compras devolvidas"
   ]
  },
  {
   "cell_type": "markdown",
   "metadata": {
    "jp-MarkdownHeadingCollapsed": true,
    "tags": []
   },
   "source": [
    "### **4.2 Bivariate Analysis**"
   ]
  },
  {
   "cell_type": "code",
   "execution_count": 53,
   "metadata": {},
   "outputs": [],
   "source": [
    "cols = ['customer_id']\n",
    "df42 = df4.drop(cols, axis=1)"
   ]
  },
  {
   "cell_type": "code",
   "execution_count": 54,
   "metadata": {},
   "outputs": [],
   "source": [
    "# plt.figure(figsize=(25,12))\n",
    "# sns.pairplot(df42)"
   ]
  },
  {
   "cell_type": "markdown",
   "metadata": {},
   "source": [
    "**Notes**\n",
    "1. Frequecy has low variance\n",
    "2. Avg Ticket has low variance"
   ]
  },
  {
   "cell_type": "markdown",
   "metadata": {},
   "source": []
  },
  {
   "cell_type": "markdown",
   "metadata": {
    "tags": []
   },
   "source": [
    "### **4.3 Estudo dos Espaços**"
   ]
  },
  {
   "cell_type": "code",
   "execution_count": 88,
   "metadata": {},
   "outputs": [],
   "source": [
    "#df43 = df4.drop(columns=['customer_id'], axis=1).copy()\n",
    "\n",
    "cols_selected = ['customer_id','gross_revenue', 'recency_days', 'qtde_products', 'frequency', 'qtde_returns']\n",
    "df43 = df4[cols_selected].copy()"
   ]
  },
  {
   "cell_type": "code",
   "execution_count": 89,
   "metadata": {},
   "outputs": [],
   "source": [
    "mm = pp.MinMaxScaler()\n",
    "\n",
    "df43['gross_revenue'] = mm.fit_transform(df43[['gross_revenue']])\n",
    "df43['recency_days'] = mm.fit_transform(df43[['recency_days']])\n",
    "#df43['qtde_invoices'] = mm.fit_transform(df43[['qtde_invoices']])\n",
    "#df43['qtde_items'] = mm.fit_transform(df43[['qtde_items']])\n",
    "df43['qtde_products'] = mm.fit_transform(df43[['qtde_products']])\n",
    "#df43['avg_ticket'] = mm.fit_transform(df43[['avg_ticket']])\n",
    "#df43['avg_recency_days'] = mm.fit_transform(df43[['avg_recency_days']])\n",
    "df43['frequency'] = mm.fit_transform(df43[['frequency']])\n",
    "df43['qtde_returns'] = mm.fit_transform(df43[['qtde_returns']])\n",
    "#df43['avg_basket_size'] = mm.fit_transform(df43[['avg_basket_size']])\n",
    "#df43['avg_unique_basket_size'] = mm.fit_transform(df43[['avg_unique_basket_size']])\n",
    "\n",
    "X = df43.copy()"
   ]
  },
  {
   "cell_type": "markdown",
   "metadata": {
    "tags": []
   },
   "source": [
    "#### **4.3.1 PCA**"
   ]
  },
  {
   "cell_type": "code",
   "execution_count": 90,
   "metadata": {},
   "outputs": [
    {
     "data": {
      "image/png": "[encoded data removed]",
      "text/plain": [
       "<Figure size 1728x648 with 1 Axes>"
      ]
     },
     "metadata": {
      "needs_background": "light"
     },
     "output_type": "display_data"
    }
   ],
   "source": [
    "pca = dd.PCA(n_components = X.shape[1])\n",
    "\n",
    "principal_componentes = pca.fit_transform(X)\n",
    "\n",
    "#plot explained variable\n",
    "features = range(pca.n_components_)\n",
    "plt.bar(features, pca.explained_variance_ratio_, color='Black')\n",
    "\n",
    "# pca components\n",
    "df_pca = pd.DataFrame(principal_componentes)"
   ]
  },
  {
   "cell_type": "code",
   "execution_count": 91,
   "metadata": {},
   "outputs": [
    {
     "data": {
      "text/plain": [
       "<AxesSubplot:xlabel='0', ylabel='1'>"
      ]
     },
     "execution_count": 91,
     "metadata": {},
     "output_type": "execute_result"
    },
    {
     "data": {
      "image/png": "[encoded data removed]",
      "text/plain": [
       "<Figure size 1728x648 with 1 Axes>"
      ]
     },
     "metadata": {
      "needs_background": "light"
     },
     "output_type": "display_data"
    }
   ],
   "source": [
    "sns.scatterplot(x=0, y=1, data=df_pca)"
   ]
  },
  {
   "cell_type": "markdown",
   "metadata": {
    "tags": []
   },
   "source": [
    "#### **4.3.2 UMAP**"
   ]
  },
  {
   "cell_type": "code",
   "execution_count": 92,
   "metadata": {},
   "outputs": [
    {
     "data": {
      "text/plain": [
       "<AxesSubplot:xlabel='embedding_x', ylabel='embedding_y'>"
      ]
     },
     "execution_count": 92,
     "metadata": {},
     "output_type": "execute_result"
    },
    {
     "data": {
      "image/png": "[encoded data removed]",
      "text/plain": [
       "<Figure size 1728x648 with 1 Axes>"
      ]
     },
     "metadata": {
      "needs_background": "light"
     },
     "output_type": "display_data"
    }
   ],
   "source": [
    "reducer = umap.UMAP(random_state=42)\n",
    "embedding = reducer.fit_transform(X)\n",
    "\n",
    "#embedding\n",
    "df_pca['embedding_x'] = embedding[:, 0]\n",
    "df_pca['embedding_y'] = embedding[:, 1]\n",
    "\n",
    "#plot UMAP\n",
    "sns.scatterplot(x='embedding_x', y='embedding_y', data=df_pca)"
   ]
  },
  {
   "cell_type": "markdown",
   "metadata": {
    "tags": []
   },
   "source": [
    "#### **4.3.3 t-SNE**"
   ]
  },
  {
   "cell_type": "code",
   "execution_count": 93,
   "metadata": {},
   "outputs": [
    {
     "name": "stderr",
     "output_type": "stream",
     "text": [
      "/home/romulo/Documentos/PA005/insiders-clustering-venv/lib/python3.8/site-packages/sklearn/manifold/_t_sne.py:795: FutureWarning: The default initialization in TSNE will change from 'random' to 'pca' in 1.2.\n",
      "  warnings.warn(\n",
      "/home/romulo/Documentos/PA005/insiders-clustering-venv/lib/python3.8/site-packages/sklearn/manifold/_t_sne.py:805: FutureWarning: The default learning rate in TSNE will change from 200.0 to 'auto' in 1.2.\n",
      "  warnings.warn(\n"
     ]
    },
    {
     "data": {
      "text/plain": [
       "<AxesSubplot:xlabel='embedding_x', ylabel='embedding_y'>"
      ]
     },
     "execution_count": 93,
     "metadata": {},
     "output_type": "execute_result"
    },
    {
     "data": {
      "image/png": "[encoded data removed]",
      "text/plain": [
       "<Figure size 1728x648 with 1 Axes>"
      ]
     },
     "metadata": {
      "needs_background": "light"
     },
     "output_type": "display_data"
    }
   ],
   "source": [
    "reducer = TSNE(n_components=2, n_jobs=-1, random_state=42)\n",
    "embedding = reducer.fit_transform(X)\n",
    "\n",
    "#embedding\n",
    "df_pca['embedding_x'] = embedding[:, 0]\n",
    "df_pca['embedding_y'] = embedding[:, 1]\n",
    "\n",
    "#plot t-SNE\n",
    "sns.scatterplot(x='embedding_x', y='embedding_y', data=df_pca)"
   ]
  },
  {
   "cell_type": "markdown",
   "metadata": {
    "tags": []
   },
   "source": [
    "#### **4.3.4 Tree-Based Embedding**"
   ]
  },
  {
   "cell_type": "code",
   "execution_count": 94,
   "metadata": {},
   "outputs": [],
   "source": [
    "# training dataset\n",
    "X = df43.drop(columns=['customer_id', 'gross_revenue'], axis=1)\n",
    "y = df43['gross_revenue']\n",
    "\n",
    "# model definition\n",
    "rf_model = en.RandomForestRegressor(n_estimators=100, random_state=42)\n",
    "\n",
    "# model training\n",
    "rf_model.fit(X, y)\n",
    "\n",
    "# leaf\n",
    "df_leaf = pd.DataFrame(rf_model.apply(X))"
   ]
  },
  {
   "cell_type": "code",
   "execution_count": 95,
   "metadata": {},
   "outputs": [
    {
     "data": {
      "text/plain": [
       "<AxesSubplot:xlabel='embedding_x', ylabel='embedding_y'>"
      ]
     },
     "execution_count": 95,
     "metadata": {},
     "output_type": "execute_result"
    },
    {
     "data": {
      "image/png": "[encoded data removed]",
      "text/plain": [
       "<Figure size 1728x648 with 1 Axes>"
      ]
     },
     "metadata": {
      "needs_background": "light"
     },
     "output_type": "display_data"
    }
   ],
   "source": [
    "reducer = umap.UMAP(n_components=2, n_jobs=-1, random_state=42)\n",
    "embedding = reducer.fit_transform(df_leaf)\n",
    "\n",
    "#embedding\n",
    "df_tree = pd.DataFrame()\n",
    "df_tree['embedding_x'] = embedding[:, 0]\n",
    "df_tree['embedding_y'] = embedding[:, 1]\n",
    "\n",
    "#plot t-SNE\n",
    "sns.scatterplot(x='embedding_x', y='embedding_y', data=df_tree)"
   ]
  },
  {
   "cell_type": "markdown",
   "metadata": {
    "jp-MarkdownHeadingCollapsed": true,
    "tags": []
   },
   "source": [
    "## **5.0 Data Preparation**"
   ]
  },
  {
   "cell_type": "markdown",
   "metadata": {},
   "source": [
    "Padronização (Standardization) -> Premissa que os dados vieram de uma distribuição normal  \n",
    "Rescala (Rescale) -> Não premissa que os dados vieram de uma distribuição normal"
   ]
  },
  {
   "cell_type": "markdown",
   "metadata": {},
   "source": [
    "**Regra do Coração**\n",
    "1. Distribuição normal e não possui outlier --> Standard Scaler -  Média e Desvio Padrão\n",
    "2. Distribuição normal e possui outlier --> Robust Scaler - Quartis\n",
    "3. Não distribuição normal --> Min Max Scaler"
   ]
  },
  {
   "cell_type": "markdown",
   "metadata": {},
   "source": [
    "**Teste de Normalidade**  \n",
    "QQ Plot - Quantile Quantile Plot (Quatile Teórica x Quantile Real)  \n",
    "KS Teste - Kolmogorov Smirnoff (Teste de Hipótese) Se o p-value > 0.5 -> Distribuição normal, p-value < 0.5 -> Não distribuição normal  \n",
    "\n",
    "**Detecção de Outlier**  \n",
    "Box Plot - Pontos são identificados como outlier\n",
    "IRQ * 2.5 - Acima desse valor é outlier\n",
    "\n",
    "3 < Z-Score < -3 Outlier"
   ]
  },
  {
   "cell_type": "code",
   "execution_count": 63,
   "metadata": {},
   "outputs": [],
   "source": [
    "df5 = df_tree.copy()"
   ]
  },
  {
   "cell_type": "code",
   "execution_count": 64,
   "metadata": {},
   "outputs": [
    {
     "data": {
      "text/plain": [
       "Index(['embedding_x', 'embedding_y'], dtype='object')"
      ]
     },
     "execution_count": 64,
     "metadata": {},
     "output_type": "execute_result"
    }
   ],
   "source": [
    "df5.columns"
   ]
  },
  {
   "cell_type": "markdown",
   "metadata": {
    "jp-MarkdownHeadingCollapsed": true,
    "tags": []
   },
   "source": [
    "## **6.0 Feature Selection**"
   ]
  },
  {
   "cell_type": "code",
   "execution_count": 65,
   "metadata": {},
   "outputs": [],
   "source": [
    "df6 = df_tree.copy()"
   ]
  },
  {
   "cell_type": "markdown",
   "metadata": {
    "jp-MarkdownHeadingCollapsed": true,
    "tags": []
   },
   "source": [
    "## **7.0 Hyperparameter Fine Tuning - Sobre o espaço de Embeddings** "
   ]
  },
  {
   "cell_type": "code",
   "execution_count": 96,
   "metadata": {},
   "outputs": [],
   "source": [
    "# X = df6.drop(columns=['customer_id'])\n",
    "X = df_tree.copy()"
   ]
  },
  {
   "cell_type": "code",
   "execution_count": 97,
   "metadata": {},
   "outputs": [],
   "source": [
    "#clusters = [2, 3, 4, 5, 6, 7]\n",
    "\n",
    "clusters = np.arange(2, 25, 1)"
   ]
  },
  {
   "cell_type": "code",
   "execution_count": 98,
   "metadata": {},
   "outputs": [
    {
     "data": {
      "text/html": [
       "<div>\n",
       "<style scoped>\n",
       "    .dataframe tbody tr th:only-of-type {\n",
       "        vertical-align: middle;\n",
       "    }\n",
       "\n",
       "    .dataframe tbody tr th {\n",
       "        vertical-align: top;\n",
       "    }\n",
       "\n",
       "    .dataframe thead th {\n",
       "        text-align: right;\n",
       "    }\n",
       "</style>\n",
       "<table border=\"1\" class=\"dataframe\">\n",
       "  <thead>\n",
       "    <tr style=\"text-align: right;\">\n",
       "      <th></th>\n",
       "      <th>embedding_x</th>\n",
       "      <th>embedding_y</th>\n",
       "    </tr>\n",
       "  </thead>\n",
       "  <tbody>\n",
       "    <tr>\n",
       "      <th>0</th>\n",
       "      <td>11.489135</td>\n",
       "      <td>16.525164</td>\n",
       "    </tr>\n",
       "    <tr>\n",
       "      <th>1</th>\n",
       "      <td>18.761673</td>\n",
       "      <td>7.048147</td>\n",
       "    </tr>\n",
       "    <tr>\n",
       "      <th>2</th>\n",
       "      <td>11.210439</td>\n",
       "      <td>15.574699</td>\n",
       "    </tr>\n",
       "    <tr>\n",
       "      <th>3</th>\n",
       "      <td>-11.780272</td>\n",
       "      <td>4.128515</td>\n",
       "    </tr>\n",
       "    <tr>\n",
       "      <th>4</th>\n",
       "      <td>-4.441093</td>\n",
       "      <td>8.889080</td>\n",
       "    </tr>\n",
       "  </tbody>\n",
       "</table>\n",
       "</div>"
      ],
      "text/plain": [
       "   embedding_x  embedding_y\n",
       "0    11.489135    16.525164\n",
       "1    18.761673     7.048147\n",
       "2    11.210439    15.574699\n",
       "3   -11.780272     4.128515\n",
       "4    -4.441093     8.889080"
      ]
     },
     "execution_count": 98,
     "metadata": {},
     "output_type": "execute_result"
    }
   ],
   "source": [
    "X.head()"
   ]
  },
  {
   "cell_type": "markdown",
   "metadata": {},
   "source": [
    "### **7.1 K-Means**"
   ]
  },
  {
   "cell_type": "code",
   "execution_count": 99,
   "metadata": {},
   "outputs": [],
   "source": [
    "kmeans_list = []\n",
    "for k in clusters:\n",
    "    # model definition\n",
    "    kmeans_model = c.KMeans(n_clusters=k)\n",
    "\n",
    "    # model training\n",
    "    kmeans_model.fit(X)\n",
    "\n",
    "    # model predict\n",
    "    labels = kmeans_model.predict(X)\n",
    "\n",
    "    # model performance\n",
    "    sil = m.silhouette_score(X, labels, metric='euclidean')\n",
    "    kmeans_list.append(sil)"
   ]
  },
  {
   "cell_type": "code",
   "execution_count": 100,
   "metadata": {},
   "outputs": [
    {
     "data": {
      "text/plain": [
       "Text(0.5, 1.0, 'Silhouette Score x K')"
      ]
     },
     "execution_count": 100,
     "metadata": {},
     "output_type": "execute_result"
    },
    {
     "data": {
      "image/png": "[encoded data removed]",
      "text/plain": [
       "<Figure size 1728x648 with 1 Axes>"
      ]
     },
     "metadata": {
      "needs_background": "light"
     },
     "output_type": "display_data"
    }
   ],
   "source": [
    "plt.plot(clusters, kmeans_list, linestyle='--', marker='o', color='b')\n",
    "plt.xlabel('K')\n",
    "plt.ylabel('Silhouette Score')\n",
    "plt.title('Silhouette Score x K')"
   ]
  },
  {
   "cell_type": "markdown",
   "metadata": {},
   "source": [
    "### **7.2 GMM**"
   ]
  },
  {
   "cell_type": "code",
   "execution_count": 101,
   "metadata": {},
   "outputs": [],
   "source": [
    "gmm_list = []\n",
    "for k in clusters:\n",
    "    # model definition\n",
    "    gmm_model = mx.GaussianMixture(n_components=k)\n",
    "\n",
    "    # model training\n",
    "    gmm_model.fit(X)\n",
    "\n",
    "    # model predict\n",
    "    labels = gmm_model.predict(X)\n",
    "\n",
    "    # model performance\n",
    "    sil = m.silhouette_score(X, labels, metric='euclidean')\n",
    "    gmm_list.append(sil)"
   ]
  },
  {
   "cell_type": "code",
   "execution_count": 102,
   "metadata": {},
   "outputs": [
    {
     "data": {
      "text/plain": [
       "Text(0.5, 1.0, 'Silhouette Score x K')"
      ]
     },
     "execution_count": 102,
     "metadata": {},
     "output_type": "execute_result"
    },
    {
     "data": {
      "image/png": "[encoded data removed]",
      "text/plain": [
       "<Figure size 1728x648 with 1 Axes>"
      ]
     },
     "metadata": {
      "needs_background": "light"
     },
     "output_type": "display_data"
    }
   ],
   "source": [
    "plt.plot(clusters, gmm_list, linestyle='--', marker='o', color='b')\n",
    "plt.xlabel('K')\n",
    "plt.ylabel('Silhouette Score')\n",
    "plt.title('Silhouette Score x K')"
   ]
  },
  {
   "cell_type": "markdown",
   "metadata": {},
   "source": [
    "### **7.3 Hierarchical Clustering**"
   ]
  },
  {
   "cell_type": "code",
   "execution_count": 103,
   "metadata": {},
   "outputs": [],
   "source": [
    "# model definition and training\n",
    "hc_model = hc.linkage(X, 'ward')"
   ]
  },
  {
   "cell_type": "code",
   "execution_count": 104,
   "metadata": {},
   "outputs": [
    {
     "data": {
      "text/plain": [
       "[]"
      ]
     },
     "execution_count": 104,
     "metadata": {},
     "output_type": "execute_result"
    },
    {
     "data": {
      "image/png": "[encoded data removed]",
      "text/plain": [
       "<Figure size 1728x648 with 1 Axes>"
      ]
     },
     "metadata": {
      "needs_background": "light"
     },
     "output_type": "display_data"
    }
   ],
   "source": [
    "hc.dendrogram(\n",
    "    hc_model,\n",
    "    leaf_rotation=90,\n",
    "    leaf_font_size=8\n",
    ")\n",
    "\n",
    "plt.plot()"
   ]
  },
  {
   "cell_type": "code",
   "execution_count": 105,
   "metadata": {},
   "outputs": [
    {
     "data": {
      "text/plain": [
       "[]"
      ]
     },
     "execution_count": 105,
     "metadata": {},
     "output_type": "execute_result"
    },
    {
     "data": {
      "image/png": "[encoded data removed]",
      "text/plain": [
       "<Figure size 1728x648 with 1 Axes>"
      ]
     },
     "metadata": {
      "needs_background": "light"
     },
     "output_type": "display_data"
    }
   ],
   "source": [
    "hc.dendrogram(\n",
    "    hc_model,\n",
    "    truncate_mode='lastp',\n",
    "    p=12,\n",
    "    leaf_rotation=90,\n",
    "    leaf_font_size=8,\n",
    "    show_contracted=True\n",
    ")\n",
    "\n",
    "plt.plot()"
   ]
  },
  {
   "cell_type": "markdown",
   "metadata": {},
   "source": [
    "#### **7.3.1 HClustering Silhouette Score**"
   ]
  },
  {
   "cell_type": "code",
   "execution_count": 106,
   "metadata": {},
   "outputs": [],
   "source": [
    "hc_list = []\n",
    "for k in clusters:\n",
    "    # model definition and training\n",
    "    hc_model = hc.linkage(X, 'ward')\n",
    "\n",
    "    # model predict\n",
    "    labels = hc.fcluster(hc_model, k, criterion='maxclust')\n",
    "\n",
    "    # metrics\n",
    "    sil = m.silhouette_score(X, labels, metric='euclidean')\n",
    "    hc_list.append(sil)"
   ]
  },
  {
   "cell_type": "code",
   "execution_count": 107,
   "metadata": {},
   "outputs": [
    {
     "data": {
      "text/plain": [
       "Text(0.5, 1.0, 'Silhouette Score x K')"
      ]
     },
     "execution_count": 107,
     "metadata": {},
     "output_type": "execute_result"
    },
    {
     "data": {
      "image/png": "[encoded data removed]",
      "text/plain": [
       "<Figure size 1728x648 with 1 Axes>"
      ]
     },
     "metadata": {
      "needs_background": "light"
     },
     "output_type": "display_data"
    }
   ],
   "source": [
    "plt.plot(clusters, hc_list, linestyle='--', marker='o', color='b')\n",
    "plt.xlabel('K')\n",
    "plt.ylabel('Silhouette Score')\n",
    "plt.title('Silhouette Score x K')"
   ]
  },
  {
   "cell_type": "markdown",
   "metadata": {
    "jp-MarkdownHeadingCollapsed": true,
    "tags": []
   },
   "source": [
    "### **7.4 DBSCAN**"
   ]
  },
  {
   "cell_type": "code",
   "execution_count": null,
   "metadata": {},
   "outputs": [],
   "source": [
    "# eps=2\n",
    "# min_samples=20\n",
    "\n",
    "# # model definition\n",
    "# dbscan_model = c.DBSCAN(eps=eps, min_samples=min_samples)\n",
    "\n",
    "# # model training and predict\n",
    "# labels = dbscan_model.fit_predict(X)\n",
    "\n",
    "\n",
    "# sil = m.silhouette_score(X, labels, metric='euclidean')\n",
    "# print('Sil: {}'.format(sil))\n",
    "# print('Clusters: ', pd.unique(labels))"
   ]
  },
  {
   "cell_type": "code",
   "execution_count": null,
   "metadata": {},
   "outputs": [],
   "source": [
    "# neighbors = NearestNeighbors(n_neighbors=20).fit(X)\n",
    "# distance, indices = neighbors.kneighbors(X)"
   ]
  },
  {
   "cell_type": "code",
   "execution_count": null,
   "metadata": {},
   "outputs": [],
   "source": [
    "# distance = np.sort(distance, axis=0)\n",
    "# distance = distance[:,1]\n",
    "# plt.plot(distance)"
   ]
  },
  {
   "cell_type": "code",
   "execution_count": null,
   "metadata": {},
   "outputs": [],
   "source": [
    "# plt.plot(distance[2000:])"
   ]
  },
  {
   "cell_type": "markdown",
   "metadata": {},
   "source": [
    "### **7.5 Results**"
   ]
  },
  {
   "cell_type": "code",
   "execution_count": 108,
   "metadata": {},
   "outputs": [
    {
     "data": {
      "text/html": [
       "<style type=\"text/css\">\n",
       "#T_9a2fa_row0_col8, #T_9a2fa_row1_col10, #T_9a2fa_row2_col8 {\n",
       "  background-color: lightgreen;\n",
       "}\n",
       "</style>\n",
       "<table id=\"T_9a2fa\">\n",
       "  <thead>\n",
       "    <tr>\n",
       "      <th class=\"blank level0\" >&nbsp;</th>\n",
       "      <th id=\"T_9a2fa_level0_col0\" class=\"col_heading level0 col0\" >2</th>\n",
       "      <th id=\"T_9a2fa_level0_col1\" class=\"col_heading level0 col1\" >3</th>\n",
       "      <th id=\"T_9a2fa_level0_col2\" class=\"col_heading level0 col2\" >4</th>\n",
       "      <th id=\"T_9a2fa_level0_col3\" class=\"col_heading level0 col3\" >5</th>\n",
       "      <th id=\"T_9a2fa_level0_col4\" class=\"col_heading level0 col4\" >6</th>\n",
       "      <th id=\"T_9a2fa_level0_col5\" class=\"col_heading level0 col5\" >7</th>\n",
       "      <th id=\"T_9a2fa_level0_col6\" class=\"col_heading level0 col6\" >8</th>\n",
       "      <th id=\"T_9a2fa_level0_col7\" class=\"col_heading level0 col7\" >9</th>\n",
       "      <th id=\"T_9a2fa_level0_col8\" class=\"col_heading level0 col8\" >10</th>\n",
       "      <th id=\"T_9a2fa_level0_col9\" class=\"col_heading level0 col9\" >11</th>\n",
       "      <th id=\"T_9a2fa_level0_col10\" class=\"col_heading level0 col10\" >12</th>\n",
       "      <th id=\"T_9a2fa_level0_col11\" class=\"col_heading level0 col11\" >13</th>\n",
       "      <th id=\"T_9a2fa_level0_col12\" class=\"col_heading level0 col12\" >14</th>\n",
       "      <th id=\"T_9a2fa_level0_col13\" class=\"col_heading level0 col13\" >15</th>\n",
       "      <th id=\"T_9a2fa_level0_col14\" class=\"col_heading level0 col14\" >16</th>\n",
       "      <th id=\"T_9a2fa_level0_col15\" class=\"col_heading level0 col15\" >17</th>\n",
       "      <th id=\"T_9a2fa_level0_col16\" class=\"col_heading level0 col16\" >18</th>\n",
       "      <th id=\"T_9a2fa_level0_col17\" class=\"col_heading level0 col17\" >19</th>\n",
       "      <th id=\"T_9a2fa_level0_col18\" class=\"col_heading level0 col18\" >20</th>\n",
       "      <th id=\"T_9a2fa_level0_col19\" class=\"col_heading level0 col19\" >21</th>\n",
       "      <th id=\"T_9a2fa_level0_col20\" class=\"col_heading level0 col20\" >22</th>\n",
       "      <th id=\"T_9a2fa_level0_col21\" class=\"col_heading level0 col21\" >23</th>\n",
       "      <th id=\"T_9a2fa_level0_col22\" class=\"col_heading level0 col22\" >24</th>\n",
       "    </tr>\n",
       "  </thead>\n",
       "  <tbody>\n",
       "    <tr>\n",
       "      <th id=\"T_9a2fa_level0_row0\" class=\"row_heading level0 row0\" >KMeans</th>\n",
       "      <td id=\"T_9a2fa_row0_col0\" class=\"data row0 col0\" >0.424409</td>\n",
       "      <td id=\"T_9a2fa_row0_col1\" class=\"data row0 col1\" >0.467066</td>\n",
       "      <td id=\"T_9a2fa_row0_col2\" class=\"data row0 col2\" >0.538879</td>\n",
       "      <td id=\"T_9a2fa_row0_col3\" class=\"data row0 col3\" >0.562707</td>\n",
       "      <td id=\"T_9a2fa_row0_col4\" class=\"data row0 col4\" >0.591068</td>\n",
       "      <td id=\"T_9a2fa_row0_col5\" class=\"data row0 col5\" >0.633593</td>\n",
       "      <td id=\"T_9a2fa_row0_col6\" class=\"data row0 col6\" >0.648009</td>\n",
       "      <td id=\"T_9a2fa_row0_col7\" class=\"data row0 col7\" >0.686532</td>\n",
       "      <td id=\"T_9a2fa_row0_col8\" class=\"data row0 col8\" >0.702313</td>\n",
       "      <td id=\"T_9a2fa_row0_col9\" class=\"data row0 col9\" >0.701396</td>\n",
       "      <td id=\"T_9a2fa_row0_col10\" class=\"data row0 col10\" >0.662386</td>\n",
       "      <td id=\"T_9a2fa_row0_col11\" class=\"data row0 col11\" >0.649720</td>\n",
       "      <td id=\"T_9a2fa_row0_col12\" class=\"data row0 col12\" >0.637625</td>\n",
       "      <td id=\"T_9a2fa_row0_col13\" class=\"data row0 col13\" >0.620682</td>\n",
       "      <td id=\"T_9a2fa_row0_col14\" class=\"data row0 col14\" >0.630160</td>\n",
       "      <td id=\"T_9a2fa_row0_col15\" class=\"data row0 col15\" >0.660469</td>\n",
       "      <td id=\"T_9a2fa_row0_col16\" class=\"data row0 col16\" >0.665912</td>\n",
       "      <td id=\"T_9a2fa_row0_col17\" class=\"data row0 col17\" >0.647347</td>\n",
       "      <td id=\"T_9a2fa_row0_col18\" class=\"data row0 col18\" >0.619465</td>\n",
       "      <td id=\"T_9a2fa_row0_col19\" class=\"data row0 col19\" >0.659797</td>\n",
       "      <td id=\"T_9a2fa_row0_col20\" class=\"data row0 col20\" >0.643106</td>\n",
       "      <td id=\"T_9a2fa_row0_col21\" class=\"data row0 col21\" >0.624626</td>\n",
       "      <td id=\"T_9a2fa_row0_col22\" class=\"data row0 col22\" >0.602524</td>\n",
       "    </tr>\n",
       "    <tr>\n",
       "      <th id=\"T_9a2fa_level0_row1\" class=\"row_heading level0 row1\" >GMM</th>\n",
       "      <td id=\"T_9a2fa_row1_col0\" class=\"data row1 col0\" >0.379759</td>\n",
       "      <td id=\"T_9a2fa_row1_col1\" class=\"data row1 col1\" >0.463671</td>\n",
       "      <td id=\"T_9a2fa_row1_col2\" class=\"data row1 col2\" >0.426975</td>\n",
       "      <td id=\"T_9a2fa_row1_col3\" class=\"data row1 col3\" >0.469641</td>\n",
       "      <td id=\"T_9a2fa_row1_col4\" class=\"data row1 col4\" >0.596769</td>\n",
       "      <td id=\"T_9a2fa_row1_col5\" class=\"data row1 col5\" >0.596584</td>\n",
       "      <td id=\"T_9a2fa_row1_col6\" class=\"data row1 col6\" >0.643777</td>\n",
       "      <td id=\"T_9a2fa_row1_col7\" class=\"data row1 col7\" >0.680174</td>\n",
       "      <td id=\"T_9a2fa_row1_col8\" class=\"data row1 col8\" >0.696971</td>\n",
       "      <td id=\"T_9a2fa_row1_col9\" class=\"data row1 col9\" >0.643908</td>\n",
       "      <td id=\"T_9a2fa_row1_col10\" class=\"data row1 col10\" >0.709267</td>\n",
       "      <td id=\"T_9a2fa_row1_col11\" class=\"data row1 col11\" >0.645978</td>\n",
       "      <td id=\"T_9a2fa_row1_col12\" class=\"data row1 col12\" >0.649477</td>\n",
       "      <td id=\"T_9a2fa_row1_col13\" class=\"data row1 col13\" >0.641984</td>\n",
       "      <td id=\"T_9a2fa_row1_col14\" class=\"data row1 col14\" >0.639620</td>\n",
       "      <td id=\"T_9a2fa_row1_col15\" class=\"data row1 col15\" >0.620793</td>\n",
       "      <td id=\"T_9a2fa_row1_col16\" class=\"data row1 col16\" >0.603799</td>\n",
       "      <td id=\"T_9a2fa_row1_col17\" class=\"data row1 col17\" >0.594920</td>\n",
       "      <td id=\"T_9a2fa_row1_col18\" class=\"data row1 col18\" >0.632830</td>\n",
       "      <td id=\"T_9a2fa_row1_col19\" class=\"data row1 col19\" >0.612521</td>\n",
       "      <td id=\"T_9a2fa_row1_col20\" class=\"data row1 col20\" >0.586390</td>\n",
       "      <td id=\"T_9a2fa_row1_col21\" class=\"data row1 col21\" >0.610970</td>\n",
       "      <td id=\"T_9a2fa_row1_col22\" class=\"data row1 col22\" >0.590628</td>\n",
       "    </tr>\n",
       "    <tr>\n",
       "      <th id=\"T_9a2fa_level0_row2\" class=\"row_heading level0 row2\" >HC</th>\n",
       "      <td id=\"T_9a2fa_row2_col0\" class=\"data row2 col0\" >0.423972</td>\n",
       "      <td id=\"T_9a2fa_row2_col1\" class=\"data row2 col1\" >0.465463</td>\n",
       "      <td id=\"T_9a2fa_row2_col2\" class=\"data row2 col2\" >0.533497</td>\n",
       "      <td id=\"T_9a2fa_row2_col3\" class=\"data row2 col3\" >0.570586</td>\n",
       "      <td id=\"T_9a2fa_row2_col4\" class=\"data row2 col4\" >0.596769</td>\n",
       "      <td id=\"T_9a2fa_row2_col5\" class=\"data row2 col5\" >0.635026</td>\n",
       "      <td id=\"T_9a2fa_row2_col6\" class=\"data row2 col6\" >0.643777</td>\n",
       "      <td id=\"T_9a2fa_row2_col7\" class=\"data row2 col7\" >0.680537</td>\n",
       "      <td id=\"T_9a2fa_row2_col8\" class=\"data row2 col8\" >0.696971</td>\n",
       "      <td id=\"T_9a2fa_row2_col9\" class=\"data row2 col9\" >0.696054</td>\n",
       "      <td id=\"T_9a2fa_row2_col10\" class=\"data row2 col10\" >0.649815</td>\n",
       "      <td id=\"T_9a2fa_row2_col11\" class=\"data row2 col11\" >0.642240</td>\n",
       "      <td id=\"T_9a2fa_row2_col12\" class=\"data row2 col12\" >0.637923</td>\n",
       "      <td id=\"T_9a2fa_row2_col13\" class=\"data row2 col13\" >0.630712</td>\n",
       "      <td id=\"T_9a2fa_row2_col14\" class=\"data row2 col14\" >0.647658</td>\n",
       "      <td id=\"T_9a2fa_row2_col15\" class=\"data row2 col15\" >0.667445</td>\n",
       "      <td id=\"T_9a2fa_row2_col16\" class=\"data row2 col16\" >0.669944</td>\n",
       "      <td id=\"T_9a2fa_row2_col17\" class=\"data row2 col17\" >0.678372</td>\n",
       "      <td id=\"T_9a2fa_row2_col18\" class=\"data row2 col18\" >0.654883</td>\n",
       "      <td id=\"T_9a2fa_row2_col19\" class=\"data row2 col19\" >0.657546</td>\n",
       "      <td id=\"T_9a2fa_row2_col20\" class=\"data row2 col20\" >0.630337</td>\n",
       "      <td id=\"T_9a2fa_row2_col21\" class=\"data row2 col21\" >0.607767</td>\n",
       "      <td id=\"T_9a2fa_row2_col22\" class=\"data row2 col22\" >0.592786</td>\n",
       "    </tr>\n",
       "  </tbody>\n",
       "</table>\n"
      ],
      "text/plain": [
       "<pandas.io.formats.style.Styler at 0x7f0fc2d3e4f0>"
      ]
     },
     "execution_count": 108,
     "metadata": {},
     "output_type": "execute_result"
    }
   ],
   "source": [
    "df_results = pd.DataFrame(\n",
    "    {'KMeans': kmeans_list,\n",
    "     'GMM': gmm_list,\n",
    "     'HC': hc_list\n",
    "    }\n",
    ").T\n",
    "\n",
    "df_results.columns = clusters\n",
    "df_results.style.highlight_max(color='lightgreen', axis=1)"
   ]
  },
  {
   "cell_type": "markdown",
   "metadata": {
    "jp-MarkdownHeadingCollapsed": true,
    "tags": []
   },
   "source": [
    "## **8.0 Model Training**"
   ]
  },
  {
   "cell_type": "markdown",
   "metadata": {
    "tags": []
   },
   "source": [
    "### **8.1 Models**"
   ]
  },
  {
   "cell_type": "markdown",
   "metadata": {},
   "source": [
    "#### **8.1.1 GMM**"
   ]
  },
  {
   "cell_type": "code",
   "execution_count": 116,
   "metadata": {},
   "outputs": [],
   "source": [
    "k = 8\n",
    "# model definition\n",
    "gmm_model = mx.GaussianMixture(n_components=k)\n",
    "\n",
    "# model training\n",
    "gmm_model.fit(X)\n",
    "\n",
    "# model predict\n",
    "labels = gmm_model.predict(X)"
   ]
  },
  {
   "cell_type": "markdown",
   "metadata": {
    "jp-MarkdownHeadingCollapsed": true,
    "tags": []
   },
   "source": [
    "## **9.0 Cluster Analysis**"
   ]
  },
  {
   "cell_type": "code",
   "execution_count": 117,
   "metadata": {},
   "outputs": [],
   "source": [
    "df9 = X.copy()\n",
    "df9['cluster'] = labels"
   ]
  },
  {
   "cell_type": "code",
   "execution_count": 118,
   "metadata": {},
   "outputs": [
    {
     "data": {
      "text/html": [
       "<div>\n",
       "<style scoped>\n",
       "    .dataframe tbody tr th:only-of-type {\n",
       "        vertical-align: middle;\n",
       "    }\n",
       "\n",
       "    .dataframe tbody tr th {\n",
       "        vertical-align: top;\n",
       "    }\n",
       "\n",
       "    .dataframe thead th {\n",
       "        text-align: right;\n",
       "    }\n",
       "</style>\n",
       "<table border=\"1\" class=\"dataframe\">\n",
       "  <thead>\n",
       "    <tr style=\"text-align: right;\">\n",
       "      <th></th>\n",
       "      <th>embedding_x</th>\n",
       "      <th>embedding_y</th>\n",
       "      <th>cluster</th>\n",
       "    </tr>\n",
       "  </thead>\n",
       "  <tbody>\n",
       "    <tr>\n",
       "      <th>0</th>\n",
       "      <td>11.489135</td>\n",
       "      <td>16.525164</td>\n",
       "      <td>1</td>\n",
       "    </tr>\n",
       "    <tr>\n",
       "      <th>1</th>\n",
       "      <td>18.761673</td>\n",
       "      <td>7.048147</td>\n",
       "      <td>6</td>\n",
       "    </tr>\n",
       "    <tr>\n",
       "      <th>2</th>\n",
       "      <td>11.210439</td>\n",
       "      <td>15.574699</td>\n",
       "      <td>1</td>\n",
       "    </tr>\n",
       "    <tr>\n",
       "      <th>3</th>\n",
       "      <td>-11.780272</td>\n",
       "      <td>4.128515</td>\n",
       "      <td>5</td>\n",
       "    </tr>\n",
       "    <tr>\n",
       "      <th>4</th>\n",
       "      <td>-4.441093</td>\n",
       "      <td>8.889080</td>\n",
       "      <td>2</td>\n",
       "    </tr>\n",
       "  </tbody>\n",
       "</table>\n",
       "</div>"
      ],
      "text/plain": [
       "   embedding_x  embedding_y  cluster\n",
       "0    11.489135    16.525164        1\n",
       "1    18.761673     7.048147        6\n",
       "2    11.210439    15.574699        1\n",
       "3   -11.780272     4.128515        5\n",
       "4    -4.441093     8.889080        2"
      ]
     },
     "execution_count": 118,
     "metadata": {},
     "output_type": "execute_result"
    }
   ],
   "source": [
    "df9.head()"
   ]
  },
  {
   "cell_type": "markdown",
   "metadata": {
    "tags": []
   },
   "source": [
    "### **9.1 Vizualizer Inspection**"
   ]
  },
  {
   "cell_type": "code",
   "execution_count": 119,
   "metadata": {},
   "outputs": [
    {
     "data": {
      "text/plain": [
       "<AxesSubplot:xlabel='embedding_x', ylabel='embedding_y'>"
      ]
     },
     "execution_count": 119,
     "metadata": {},
     "output_type": "execute_result"
    },
    {
     "data": {
      "image/png": "[encoded data removed]",
      "text/plain": [
       "<Figure size 1728x648 with 1 Axes>"
      ]
     },
     "metadata": {
      "needs_background": "light"
     },
     "output_type": "display_data"
    }
   ],
   "source": [
    "sns.scatterplot(x='embedding_x', y='embedding_y', hue='cluster', data=df9, palette='deep')"
   ]
  },
  {
   "cell_type": "markdown",
   "metadata": {
    "jp-MarkdownHeadingCollapsed": true,
    "tags": []
   },
   "source": [
    "### **9.4 Cluster Profile**"
   ]
  },
  {
   "cell_type": "code",
   "execution_count": 128,
   "metadata": {},
   "outputs": [
    {
     "data": {
      "text/html": [
       "<div>\n",
       "<style scoped>\n",
       "    .dataframe tbody tr th:only-of-type {\n",
       "        vertical-align: middle;\n",
       "    }\n",
       "\n",
       "    .dataframe tbody tr th {\n",
       "        vertical-align: top;\n",
       "    }\n",
       "\n",
       "    .dataframe thead th {\n",
       "        text-align: right;\n",
       "    }\n",
       "</style>\n",
       "<table border=\"1\" class=\"dataframe\">\n",
       "  <thead>\n",
       "    <tr style=\"text-align: right;\">\n",
       "      <th></th>\n",
       "      <th>customer_id</th>\n",
       "      <th>gross_revenue</th>\n",
       "      <th>recency_days</th>\n",
       "      <th>qtde_products</th>\n",
       "      <th>frequency</th>\n",
       "      <th>qtde_returns</th>\n",
       "      <th>cluster</th>\n",
       "    </tr>\n",
       "  </thead>\n",
       "  <tbody>\n",
       "    <tr>\n",
       "      <th>0</th>\n",
       "      <td>17850</td>\n",
       "      <td>5391.21</td>\n",
       "      <td>372.0</td>\n",
       "      <td>297.0</td>\n",
       "      <td>17.000000</td>\n",
       "      <td>40.0</td>\n",
       "      <td>1</td>\n",
       "    </tr>\n",
       "    <tr>\n",
       "      <th>1</th>\n",
       "      <td>13047</td>\n",
       "      <td>3232.59</td>\n",
       "      <td>56.0</td>\n",
       "      <td>171.0</td>\n",
       "      <td>0.028302</td>\n",
       "      <td>35.0</td>\n",
       "      <td>6</td>\n",
       "    </tr>\n",
       "    <tr>\n",
       "      <th>2</th>\n",
       "      <td>12583</td>\n",
       "      <td>6705.38</td>\n",
       "      <td>2.0</td>\n",
       "      <td>232.0</td>\n",
       "      <td>0.040323</td>\n",
       "      <td>50.0</td>\n",
       "      <td>1</td>\n",
       "    </tr>\n",
       "    <tr>\n",
       "      <th>3</th>\n",
       "      <td>13748</td>\n",
       "      <td>948.25</td>\n",
       "      <td>95.0</td>\n",
       "      <td>28.0</td>\n",
       "      <td>0.017921</td>\n",
       "      <td>0.0</td>\n",
       "      <td>5</td>\n",
       "    </tr>\n",
       "    <tr>\n",
       "      <th>4</th>\n",
       "      <td>15100</td>\n",
       "      <td>876.00</td>\n",
       "      <td>333.0</td>\n",
       "      <td>3.0</td>\n",
       "      <td>0.073171</td>\n",
       "      <td>22.0</td>\n",
       "      <td>2</td>\n",
       "    </tr>\n",
       "  </tbody>\n",
       "</table>\n",
       "</div>"
      ],
      "text/plain": [
       "   customer_id  gross_revenue  recency_days  qtde_products  frequency  \\\n",
       "0        17850        5391.21         372.0          297.0  17.000000   \n",
       "1        13047        3232.59          56.0          171.0   0.028302   \n",
       "2        12583        6705.38           2.0          232.0   0.040323   \n",
       "3        13748         948.25          95.0           28.0   0.017921   \n",
       "4        15100         876.00         333.0            3.0   0.073171   \n",
       "\n",
       "   qtde_returns  cluster  \n",
       "0          40.0        1  \n",
       "1          35.0        6  \n",
       "2          50.0        1  \n",
       "3           0.0        5  \n",
       "4          22.0        2  "
      ]
     },
     "execution_count": 128,
     "metadata": {},
     "output_type": "execute_result"
    }
   ],
   "source": [
    "df92 = df4[cols_selected].copy()\n",
    "df92['cluster'] = labels\n",
    "df92.head()"
   ]
  },
  {
   "cell_type": "code",
   "execution_count": 130,
   "metadata": {},
   "outputs": [
    {
     "data": {
      "text/html": [
       "<div>\n",
       "<style scoped>\n",
       "    .dataframe tbody tr th:only-of-type {\n",
       "        vertical-align: middle;\n",
       "    }\n",
       "\n",
       "    .dataframe tbody tr th {\n",
       "        vertical-align: top;\n",
       "    }\n",
       "\n",
       "    .dataframe thead th {\n",
       "        text-align: right;\n",
       "    }\n",
       "</style>\n",
       "<table border=\"1\" class=\"dataframe\">\n",
       "  <thead>\n",
       "    <tr style=\"text-align: right;\">\n",
       "      <th></th>\n",
       "      <th>cluster</th>\n",
       "      <th>customer_id</th>\n",
       "      <th>perc_customers</th>\n",
       "      <th>gross_revenue</th>\n",
       "      <th>recency_days</th>\n",
       "      <th>qtde_products</th>\n",
       "      <th>qtde_returns</th>\n",
       "      <th>frequency</th>\n",
       "    </tr>\n",
       "  </thead>\n",
       "  <tbody>\n",
       "    <tr>\n",
       "      <th>1</th>\n",
       "      <td>1</td>\n",
       "      <td>469</td>\n",
       "      <td>15.796564</td>\n",
       "      <td>9176.512431</td>\n",
       "      <td>21.392324</td>\n",
       "      <td>423.236674</td>\n",
       "      <td>321.650320</td>\n",
       "      <td>0.094390</td>\n",
       "    </tr>\n",
       "    <tr>\n",
       "      <th>6</th>\n",
       "      <td>6</td>\n",
       "      <td>145</td>\n",
       "      <td>4.883799</td>\n",
       "      <td>3164.253379</td>\n",
       "      <td>34.427586</td>\n",
       "      <td>173.875862</td>\n",
       "      <td>23.482759</td>\n",
       "      <td>0.060415</td>\n",
       "    </tr>\n",
       "    <tr>\n",
       "      <th>3</th>\n",
       "      <td>3</td>\n",
       "      <td>433</td>\n",
       "      <td>14.584035</td>\n",
       "      <td>2653.024758</td>\n",
       "      <td>51.637413</td>\n",
       "      <td>98.588915</td>\n",
       "      <td>14.808314</td>\n",
       "      <td>0.049977</td>\n",
       "    </tr>\n",
       "    <tr>\n",
       "      <th>4</th>\n",
       "      <td>4</td>\n",
       "      <td>355</td>\n",
       "      <td>11.956888</td>\n",
       "      <td>2419.750366</td>\n",
       "      <td>44.219718</td>\n",
       "      <td>128.146479</td>\n",
       "      <td>21.580282</td>\n",
       "      <td>0.042380</td>\n",
       "    </tr>\n",
       "    <tr>\n",
       "      <th>7</th>\n",
       "      <td>7</td>\n",
       "      <td>415</td>\n",
       "      <td>13.977770</td>\n",
       "      <td>1203.160048</td>\n",
       "      <td>60.522892</td>\n",
       "      <td>53.226506</td>\n",
       "      <td>7.703614</td>\n",
       "      <td>0.042165</td>\n",
       "    </tr>\n",
       "    <tr>\n",
       "      <th>0</th>\n",
       "      <td>0</td>\n",
       "      <td>278</td>\n",
       "      <td>9.363422</td>\n",
       "      <td>954.737698</td>\n",
       "      <td>77.489209</td>\n",
       "      <td>36.514388</td>\n",
       "      <td>5.723022</td>\n",
       "      <td>0.081885</td>\n",
       "    </tr>\n",
       "    <tr>\n",
       "      <th>5</th>\n",
       "      <td>5</td>\n",
       "      <td>162</td>\n",
       "      <td>5.456383</td>\n",
       "      <td>819.306358</td>\n",
       "      <td>85.728395</td>\n",
       "      <td>27.944444</td>\n",
       "      <td>4.000000</td>\n",
       "      <td>0.124034</td>\n",
       "    </tr>\n",
       "    <tr>\n",
       "      <th>2</th>\n",
       "      <td>2</td>\n",
       "      <td>712</td>\n",
       "      <td>23.981138</td>\n",
       "      <td>695.095309</td>\n",
       "      <td>108.484551</td>\n",
       "      <td>22.064607</td>\n",
       "      <td>15.134831</td>\n",
       "      <td>0.263756</td>\n",
       "    </tr>\n",
       "  </tbody>\n",
       "</table>\n",
       "</div>"
      ],
      "text/plain": [
       "   cluster  customer_id  perc_customers  gross_revenue  recency_days  \\\n",
       "1        1          469       15.796564    9176.512431     21.392324   \n",
       "6        6          145        4.883799    3164.253379     34.427586   \n",
       "3        3          433       14.584035    2653.024758     51.637413   \n",
       "4        4          355       11.956888    2419.750366     44.219718   \n",
       "7        7          415       13.977770    1203.160048     60.522892   \n",
       "0        0          278        9.363422     954.737698     77.489209   \n",
       "5        5          162        5.456383     819.306358     85.728395   \n",
       "2        2          712       23.981138     695.095309    108.484551   \n",
       "\n",
       "   qtde_products  qtde_returns  frequency  \n",
       "1     423.236674    321.650320   0.094390  \n",
       "6     173.875862     23.482759   0.060415  \n",
       "3      98.588915     14.808314   0.049977  \n",
       "4     128.146479     21.580282   0.042380  \n",
       "7      53.226506      7.703614   0.042165  \n",
       "0      36.514388      5.723022   0.081885  \n",
       "5      27.944444      4.000000   0.124034  \n",
       "2      22.064607     15.134831   0.263756  "
      ]
     },
     "execution_count": 130,
     "metadata": {},
     "output_type": "execute_result"
    }
   ],
   "source": [
    "# number of customers\n",
    "df_cluster = df92[['customer_id', 'cluster']].groupby('cluster').count().reset_index()\n",
    "df_cluster['perc_customers'] = 100 * (df_cluster['customer_id']/df_cluster['customer_id'].sum())\n",
    "\n",
    "# gross revenue\n",
    "df_gross_revenue = df92[['gross_revenue', 'cluster']].groupby('cluster').mean().reset_index()\n",
    "df_cluster = pd.merge(df_cluster, df_gross_revenue, how='inner', on='cluster')\n",
    "\n",
    "# recency days\n",
    "df_recency_days = df92[['recency_days', 'cluster']].groupby('cluster').mean().reset_index()\n",
    "df_cluster = pd.merge(df_cluster, df_recency_days, how='inner', on='cluster')\n",
    "\n",
    "# # quantidade invoices\n",
    "# df_qtde_invoice = df92[['qtde_invoices', 'cluster']].groupby('cluster').mean().reset_index()\n",
    "# df_cluster = pd.merge(df_cluster, df_qtde_invoice, how='inner', on='cluster')\n",
    "\n",
    "# # quantidade itens\n",
    "# df_qtde_items = df92[['qtde_items', 'cluster']].groupby('cluster').mean().reset_index()\n",
    "# df_cluster = pd.merge(df_cluster, df_qtde_items, how='inner', on='cluster')\n",
    "\n",
    "# quantidade produtos\n",
    "df_qtde_products = df92[['qtde_products', 'cluster']].groupby('cluster').mean().reset_index()\n",
    "df_cluster = pd.merge(df_cluster, df_qtde_products, how='inner', on='cluster')\n",
    "\n",
    "# # Average Ticket\n",
    "# df_avg_ticket = df92[['avg_ticket', 'cluster']].groupby('cluster').mean().reset_index()\n",
    "# df_cluster = pd.merge(df_cluster, df_avg_ticket, how='inner', on='cluster')\n",
    "\n",
    "# # Average Recency Days\n",
    "# df_avg_recency_days = df92[['avg_recency_days', 'cluster']].groupby('cluster').mean().reset_index()\n",
    "# df_cluster = pd.merge(df_cluster, df_avg_recency_days, how='inner', on='cluster')\n",
    "\n",
    "# Number of returns\n",
    "df_returns = df92[['qtde_returns', 'cluster']].groupby('cluster').mean().reset_index()\n",
    "df_cluster = pd.merge(df_cluster, df_returns, how='inner', on='cluster')\n",
    "\n",
    "# frequency\n",
    "df_frequency = df92[['frequency', 'cluster']].groupby('cluster').mean().reset_index()\n",
    "df_cluster = pd.merge(df_cluster, df_frequency, how='inner', on='cluster')\n",
    "\n",
    "# # avg_basket_size\n",
    "# df_avg_basket_size = df92[['avg_basket_size', 'cluster']].groupby('cluster').mean().reset_index()\n",
    "# df_cluster = pd.merge(df_cluster, df_avg_basket_size, how='inner', on='cluster')\n",
    "\n",
    "# # avg_unique_basket_size\n",
    "# df_avg_unique_basket_size = df92[['avg_unique_basket_size', 'cluster']].groupby('cluster').mean().reset_index()\n",
    "# df_cluster = pd.merge(df_cluster, df_avg_unique_basket_size, how='inner', on='cluster')\n",
    "\n",
    "df_cluster.sort_values('gross_revenue', ascending=False)"
   ]
  },
  {
   "cell_type": "code",
   "execution_count": 126,
   "metadata": {},
   "outputs": [],
   "source": [
    "#1 Cluster Insiders  \n",
    "#6 Cluster More Products\n",
    "#3 Cluster Spend Money\n",
    "#4 Cluster Even More Products\n",
    "#7 Cluster Less Days\n",
    "#0 Cluster Less 1k\n",
    "#5 Cluster Stop Returns\n",
    "#2 Cluster More Buy"
   ]
  },
  {
   "cell_type": "markdown",
   "metadata": {
    "tags": []
   },
   "source": [
    "## **10.0 EDA dos Clusters**"
   ]
  },
  {
   "cell_type": "markdown",
   "metadata": {
    "tags": []
   },
   "source": [
    "### **10.1 Mind Map de Hipóteses**"
   ]
  },
  {
   "cell_type": "markdown",
   "metadata": {},
   "source": [
    "1. Fenômeno\n",
    "2. Entidades (Customer, Location, Finance, Family)\n",
    "3. Características da Entidade (Customer, Idade, Salário, Escolaridade)"
   ]
  },
  {
   "cell_type": "markdown",
   "metadata": {
    "tags": []
   },
   "source": [
    "### **10.2 Hipóteses de Negócio**"
   ]
  },
  {
   "cell_type": "markdown",
   "metadata": {},
   "source": [
    "1. Afirmação\n",
    "2. Comparação de variáveis\n",
    "3. Valor base de comparação"
   ]
  },
  {
   "cell_type": "code",
   "execution_count": 131,
   "metadata": {},
   "outputs": [],
   "source": [
    "df10 = df92.copy()"
   ]
  },
  {
   "cell_type": "code",
   "execution_count": 132,
   "metadata": {},
   "outputs": [
    {
     "data": {
      "text/html": [
       "<div>\n",
       "<style scoped>\n",
       "    .dataframe tbody tr th:only-of-type {\n",
       "        vertical-align: middle;\n",
       "    }\n",
       "\n",
       "    .dataframe tbody tr th {\n",
       "        vertical-align: top;\n",
       "    }\n",
       "\n",
       "    .dataframe thead th {\n",
       "        text-align: right;\n",
       "    }\n",
       "</style>\n",
       "<table border=\"1\" class=\"dataframe\">\n",
       "  <thead>\n",
       "    <tr style=\"text-align: right;\">\n",
       "      <th></th>\n",
       "      <th>customer_id</th>\n",
       "      <th>gross_revenue</th>\n",
       "      <th>recency_days</th>\n",
       "      <th>qtde_products</th>\n",
       "      <th>frequency</th>\n",
       "      <th>qtde_returns</th>\n",
       "      <th>cluster</th>\n",
       "    </tr>\n",
       "  </thead>\n",
       "  <tbody>\n",
       "    <tr>\n",
       "      <th>0</th>\n",
       "      <td>17850</td>\n",
       "      <td>5391.21</td>\n",
       "      <td>372.0</td>\n",
       "      <td>297.0</td>\n",
       "      <td>17.000000</td>\n",
       "      <td>40.0</td>\n",
       "      <td>1</td>\n",
       "    </tr>\n",
       "    <tr>\n",
       "      <th>1</th>\n",
       "      <td>13047</td>\n",
       "      <td>3232.59</td>\n",
       "      <td>56.0</td>\n",
       "      <td>171.0</td>\n",
       "      <td>0.028302</td>\n",
       "      <td>35.0</td>\n",
       "      <td>6</td>\n",
       "    </tr>\n",
       "    <tr>\n",
       "      <th>2</th>\n",
       "      <td>12583</td>\n",
       "      <td>6705.38</td>\n",
       "      <td>2.0</td>\n",
       "      <td>232.0</td>\n",
       "      <td>0.040323</td>\n",
       "      <td>50.0</td>\n",
       "      <td>1</td>\n",
       "    </tr>\n",
       "    <tr>\n",
       "      <th>3</th>\n",
       "      <td>13748</td>\n",
       "      <td>948.25</td>\n",
       "      <td>95.0</td>\n",
       "      <td>28.0</td>\n",
       "      <td>0.017921</td>\n",
       "      <td>0.0</td>\n",
       "      <td>5</td>\n",
       "    </tr>\n",
       "    <tr>\n",
       "      <th>4</th>\n",
       "      <td>15100</td>\n",
       "      <td>876.00</td>\n",
       "      <td>333.0</td>\n",
       "      <td>3.0</td>\n",
       "      <td>0.073171</td>\n",
       "      <td>22.0</td>\n",
       "      <td>2</td>\n",
       "    </tr>\n",
       "  </tbody>\n",
       "</table>\n",
       "</div>"
      ],
      "text/plain": [
       "   customer_id  gross_revenue  recency_days  qtde_products  frequency  \\\n",
       "0        17850        5391.21         372.0          297.0  17.000000   \n",
       "1        13047        3232.59          56.0          171.0   0.028302   \n",
       "2        12583        6705.38           2.0          232.0   0.040323   \n",
       "3        13748         948.25          95.0           28.0   0.017921   \n",
       "4        15100         876.00         333.0            3.0   0.073171   \n",
       "\n",
       "   qtde_returns  cluster  \n",
       "0          40.0        1  \n",
       "1          35.0        6  \n",
       "2          50.0        1  \n",
       "3           0.0        5  \n",
       "4          22.0        2  "
      ]
     },
     "execution_count": 132,
     "metadata": {},
     "output_type": "execute_result"
    }
   ],
   "source": [
    "df10.head()"
   ]
  },
  {
   "cell_type": "markdown",
   "metadata": {
    "tags": []
   },
   "source": [
    "#### Hipótese de compra:"
   ]
  },
  {
   "cell_type": "markdown",
   "metadata": {},
   "source": [
    "Afirmação | cluster | chute"
   ]
  },
  {
   "cell_type": "markdown",
   "metadata": {},
   "source": [
    "1. 80% dos clientes utilizam cartão como forma de pagamento.\n",
    "2. Os clientes do cluster insiders possuim um ticket médio 10% maiir que do cluste More Products.\n",
    "3. Os clientes do cluster Insiders possuem um basket size acima de 5 produtos.\n",
    "4. **Os clientes do cluster Insiders possuem um volume (produtos) de compra correspondente acima de 10% do percentual total de compras.**\n",
    "5. **Os clientes do cluster Insiders possuem um volume (faturamento) de compra correspondente acima de 10% do percentual total de compras.**\n",
    "6. **Os clientes do cluster Insiders possuem um numero de devoluções abaixo da média da base total de clientes.**\n",
    "7. **A mediana do faturamento do cluster Insiders é 10% maior do que a mediana do faturamento geral**\n",
    "8."
   ]
  },
  {
   "cell_type": "markdown",
   "metadata": {
    "jp-MarkdownHeadingCollapsed": true,
    "tags": []
   },
   "source": [
    "##### **H1. Os clientes do cluster Insiders possuem um volume (produtos) de compras acima de 10% do percentual total de compras.**\n",
    "Verdadeiro. Os clientes Insiders possuem o volume de compra de 54.48% do total"
   ]
  },
  {
   "cell_type": "code",
   "execution_count": 144,
   "metadata": {},
   "outputs": [
    {
     "name": "stdout",
     "output_type": "stream",
     "text": [
      "Volume de Produtos Insiders: 54.48%\n"
     ]
    }
   ],
   "source": [
    "df_vol_products_insiders = df10.loc[df10['cluster'] == 1, 'qtde_products'].sum()\n",
    "df_vol_products_total = df10.loc[:,'qtde_products'].sum()\n",
    "\n",
    "print('Volume de Produtos Insiders: {:.2f}%'.format(100 * df_vol_products_insiders/df_vol_products_total))"
   ]
  },
  {
   "cell_type": "markdown",
   "metadata": {
    "jp-MarkdownHeadingCollapsed": true,
    "tags": []
   },
   "source": [
    "##### **H2. Os clientes do cluster Insiders possuem um volume (faturamento) de compra correspondente acima de 10% do percentual total de compras.**\n",
    "Verdadeiro. Os clientes Insiders representam 52.72% do faturamento."
   ]
  },
  {
   "cell_type": "code",
   "execution_count": 143,
   "metadata": {},
   "outputs": [
    {
     "name": "stdout",
     "output_type": "stream",
     "text": [
      "GMV Insiders: 52.72%\n"
     ]
    }
   ],
   "source": [
    "df_gmv_products_insiders = df10.loc[df10['cluster'] == 1, 'gross_revenue'].sum()\n",
    "df_gmv_products_total = df10.loc[:,'gross_revenue'].sum()\n",
    "\n",
    "print('GMV Insiders: {:.2f}%'.format(100 * df_gmv_products_insiders/df_gmv_products_total))"
   ]
  },
  {
   "cell_type": "markdown",
   "metadata": {
    "jp-MarkdownHeadingCollapsed": true,
    "tags": []
   },
   "source": [
    "##### **H3. Os clientes do cluster Insiders possuem um numero de devoluções abaixo da média da base total de clientes.**\n",
    "Falso. O cluster Insiders tem média de devoluções acima da média geral."
   ]
  },
  {
   "cell_type": "code",
   "execution_count": 146,
   "metadata": {},
   "outputs": [
    {
     "name": "stdout",
     "output_type": "stream",
     "text": [
      "Avg Return Insiders: 321.65 - Avg Return Total: 62.16\n"
     ]
    }
   ],
   "source": [
    "df_avg_return_insiders = df10.loc[df10['cluster'] == 1, 'qtde_returns'].mean()\n",
    "df_avg_return_total = df10.loc[:, 'qtde_returns'].mean()\n",
    "\n",
    "print('Avg Return Insiders: {:.2f} - Avg Return Total: {:.2f}'.format(df_avg_return_insiders, df_avg_return_total))"
   ]
  },
  {
   "cell_type": "markdown",
   "metadata": {
    "jp-MarkdownHeadingCollapsed": true,
    "tags": []
   },
   "source": [
    "##### **H4. A mediana do faturamento do cluster Insiders é 10% maior do que a mediana do faturamento geral**\n",
    "Verdadeiro."
   ]
  },
  {
   "cell_type": "code",
   "execution_count": 166,
   "metadata": {},
   "outputs": [
    {
     "name": "stdout",
     "output_type": "stream",
     "text": [
      "Median Diff: 276.37360615316675%\n"
     ]
    }
   ],
   "source": [
    "df_median_gmv_insiders = df10.loc[df10['cluster'] == 1, 'gross_revenue'].median()\n",
    "df_median_gmv_total = df10.loc[:, 'gross_revenue'].median()\n",
    "\n",
    "gmv_diff = (df_median_gmv_insiders - df_median_gmv_total) / df_median_gmv_total\n",
    "print('Median Diff: {}%'.format(100 * gmv_diff))"
   ]
  },
  {
   "cell_type": "markdown",
   "metadata": {
    "jp-MarkdownHeadingCollapsed": true,
    "tags": []
   },
   "source": [
    "#### Hipótese de cliente:"
   ]
  },
  {
   "cell_type": "markdown",
   "metadata": {},
   "source": [
    "1. 60% dos clientes do cluster Insiders são do estado civil solteiro.  \n",
    "2. 10% dos clientes do cluster Insiders estão na faixa de 24-35 anos.\n",
    "3. 40% das localidades de entrega dos clientes do cluster Insiders estão dentro de um raio de 50km.\n",
    "4. 5% dos clientes do cluster Insiders recebem mais de 100 mil dólares anualmente.\n",
    "5. 90% dos clientes do cluster Insiders tem ensino superior completo."
   ]
  },
  {
   "cell_type": "markdown",
   "metadata": {
    "jp-MarkdownHeadingCollapsed": true,
    "tags": []
   },
   "source": [
    "#### Hipótese de produto:"
   ]
  },
  {
   "cell_type": "markdown",
   "metadata": {},
   "source": [
    "1. 30% dos produtos em pacotes grandes são comprados por clientes do cluster Insiders.\n",
    "2. A mediana dos preços dos produtos comprados pelos clientes do cluster Insiders é 10% maior que a mediana de todos os preços dos produtos.\n",
    "3. O percentil de preço dos produtos comprados pelos clientes do cluster Insiders.\n",
    "4. O peso médio dos produtos comprados pelos clientes do cluster insiders é maior que o peso médio comprado pelos outros clusters.\n",
    "5. A idade média dos produtos comprados pelos clientes do cluster insiders é menor do que 15 dias."
   ]
  },
  {
   "cell_type": "markdown",
   "metadata": {},
   "source": [
    "#### Perguntas de negócio:"
   ]
  },
  {
   "cell_type": "markdown",
   "metadata": {
    "tags": []
   },
   "source": [
    "1. Quem são as pessoas elegíveis ?"
   ]
  },
  {
   "cell_type": "code",
   "execution_count": 173,
   "metadata": {},
   "outputs": [
    {
     "data": {
      "text/html": [
       "<div>\n",
       "<style scoped>\n",
       "    .dataframe tbody tr th:only-of-type {\n",
       "        vertical-align: middle;\n",
       "    }\n",
       "\n",
       "    .dataframe tbody tr th {\n",
       "        vertical-align: top;\n",
       "    }\n",
       "\n",
       "    .dataframe thead th {\n",
       "        text-align: right;\n",
       "    }\n",
       "</style>\n",
       "<table border=\"1\" class=\"dataframe\">\n",
       "  <thead>\n",
       "    <tr style=\"text-align: right;\">\n",
       "      <th></th>\n",
       "      <th>customer_id</th>\n",
       "      <th>gross_revenue</th>\n",
       "      <th>recency_days</th>\n",
       "      <th>qtde_products</th>\n",
       "      <th>frequency</th>\n",
       "      <th>qtde_returns</th>\n",
       "      <th>cluster</th>\n",
       "    </tr>\n",
       "  </thead>\n",
       "  <tbody>\n",
       "    <tr>\n",
       "      <th>0</th>\n",
       "      <td>17850</td>\n",
       "      <td>5391.21</td>\n",
       "      <td>372.0</td>\n",
       "      <td>297.0</td>\n",
       "      <td>17.000000</td>\n",
       "      <td>40.0</td>\n",
       "      <td>1</td>\n",
       "    </tr>\n",
       "    <tr>\n",
       "      <th>2</th>\n",
       "      <td>12583</td>\n",
       "      <td>6705.38</td>\n",
       "      <td>2.0</td>\n",
       "      <td>232.0</td>\n",
       "      <td>0.040323</td>\n",
       "      <td>50.0</td>\n",
       "      <td>1</td>\n",
       "    </tr>\n",
       "    <tr>\n",
       "      <th>6</th>\n",
       "      <td>14688</td>\n",
       "      <td>5630.87</td>\n",
       "      <td>7.0</td>\n",
       "      <td>327.0</td>\n",
       "      <td>0.057221</td>\n",
       "      <td>399.0</td>\n",
       "      <td>1</td>\n",
       "    </tr>\n",
       "    <tr>\n",
       "      <th>8</th>\n",
       "      <td>15311</td>\n",
       "      <td>60767.90</td>\n",
       "      <td>0.0</td>\n",
       "      <td>2379.0</td>\n",
       "      <td>0.243316</td>\n",
       "      <td>474.0</td>\n",
       "      <td>1</td>\n",
       "    </tr>\n",
       "    <tr>\n",
       "      <th>12</th>\n",
       "      <td>16029</td>\n",
       "      <td>72882.09</td>\n",
       "      <td>38.0</td>\n",
       "      <td>241.0</td>\n",
       "      <td>0.184524</td>\n",
       "      <td>8004.0</td>\n",
       "      <td>1</td>\n",
       "    </tr>\n",
       "  </tbody>\n",
       "</table>\n",
       "</div>"
      ],
      "text/plain": [
       "    customer_id  gross_revenue  recency_days  qtde_products  frequency  \\\n",
       "0         17850        5391.21         372.0          297.0  17.000000   \n",
       "2         12583        6705.38           2.0          232.0   0.040323   \n",
       "6         14688        5630.87           7.0          327.0   0.057221   \n",
       "8         15311       60767.90           0.0         2379.0   0.243316   \n",
       "12        16029       72882.09          38.0          241.0   0.184524   \n",
       "\n",
       "    qtde_returns  cluster  \n",
       "0           40.0        1  \n",
       "2           50.0        1  \n",
       "6          399.0        1  \n",
       "8          474.0        1  \n",
       "12        8004.0        1  "
      ]
     },
     "execution_count": 173,
     "metadata": {},
     "output_type": "execute_result"
    }
   ],
   "source": [
    "df_insiders = df10.loc[df10['cluster'] == 1,]\n",
    "df_insiders.head()"
   ]
  },
  {
   "cell_type": "markdown",
   "metadata": {},
   "source": [
    "2. Quantos clientes farão parte do grupo?"
   ]
  },
  {
   "cell_type": "code",
   "execution_count": 175,
   "metadata": {},
   "outputs": [
    {
     "data": {
      "text/plain": [
       "469"
      ]
     },
     "execution_count": 175,
     "metadata": {},
     "output_type": "execute_result"
    }
   ],
   "source": [
    "df_insiders.shape[0]"
   ]
  },
  {
   "cell_type": "markdown",
   "metadata": {},
   "source": [
    "3. Quais as características desses clientes?"
   ]
  },
  {
   "cell_type": "code",
   "execution_count": 178,
   "metadata": {},
   "outputs": [
    {
     "data": {
      "text/html": [
       "<div>\n",
       "<style scoped>\n",
       "    .dataframe tbody tr th:only-of-type {\n",
       "        vertical-align: middle;\n",
       "    }\n",
       "\n",
       "    .dataframe tbody tr th {\n",
       "        vertical-align: top;\n",
       "    }\n",
       "\n",
       "    .dataframe thead th {\n",
       "        text-align: right;\n",
       "    }\n",
       "</style>\n",
       "<table border=\"1\" class=\"dataframe\">\n",
       "  <thead>\n",
       "    <tr style=\"text-align: right;\">\n",
       "      <th></th>\n",
       "      <th>cluster</th>\n",
       "      <th>customer_id</th>\n",
       "      <th>perc_customers</th>\n",
       "      <th>gross_revenue</th>\n",
       "      <th>recency_days</th>\n",
       "      <th>qtde_products</th>\n",
       "      <th>qtde_returns</th>\n",
       "      <th>frequency</th>\n",
       "    </tr>\n",
       "  </thead>\n",
       "  <tbody>\n",
       "    <tr>\n",
       "      <th>1</th>\n",
       "      <td>1</td>\n",
       "      <td>469</td>\n",
       "      <td>15.796564</td>\n",
       "      <td>9176.512431</td>\n",
       "      <td>21.392324</td>\n",
       "      <td>423.236674</td>\n",
       "      <td>321.65032</td>\n",
       "      <td>0.09439</td>\n",
       "    </tr>\n",
       "  </tbody>\n",
       "</table>\n",
       "</div>"
      ],
      "text/plain": [
       "   cluster  customer_id  perc_customers  gross_revenue  recency_days  \\\n",
       "1        1          469       15.796564    9176.512431     21.392324   \n",
       "\n",
       "   qtde_products  qtde_returns  frequency  \n",
       "1     423.236674     321.65032    0.09439  "
      ]
     },
     "execution_count": 178,
     "metadata": {},
     "output_type": "execute_result"
    }
   ],
   "source": [
    "df_cluster[df_cluster['cluster'] == 1]"
   ]
  },
  {
   "cell_type": "code",
   "execution_count": 182,
   "metadata": {},
   "outputs": [],
   "source": [
    "import scipy.stats as st\n",
    "\n",
    "data = df_insiders['gross_revenue']\n",
    "\n",
    "#Bootstrap\n",
    "intervalo_confianca = st.t.interval(alpha=0.95,\n",
    "                                     df=len(data),\n",
    "                                     loc=np.mean(data),\n",
    "                                     scale=st.sem(data))"
   ]
  },
  {
   "cell_type": "code",
   "execution_count": 184,
   "metadata": {},
   "outputs": [
    {
     "data": {
      "text/plain": [
       "(7157.412956277608, 11195.611905129645)"
      ]
     },
     "execution_count": 184,
     "metadata": {},
     "output_type": "execute_result"
    }
   ],
   "source": [
    "intervalo_confianca # Gross Renevue"
   ]
  },
  {
   "cell_type": "markdown",
   "metadata": {},
   "source": [
    "4. Qual a porcentagem de contribuição do faturamento, vindo do insiders?"
   ]
  },
  {
   "cell_type": "code",
   "execution_count": 185,
   "metadata": {},
   "outputs": [
    {
     "name": "stdout",
     "output_type": "stream",
     "text": [
      "GMV Insiders: 52.72%\n"
     ]
    }
   ],
   "source": [
    "df_gmv_products_insiders = df10.loc[df10['cluster'] == 1, 'gross_revenue'].sum()\n",
    "df_gmv_products_total = df10.loc[:,'gross_revenue'].sum()\n",
    "\n",
    "print('GMV Insiders: {:.2f}%'.format(100 * df_gmv_products_insiders/df_gmv_products_total))"
   ]
  },
  {
   "cell_type": "markdown",
   "metadata": {},
   "source": [
    "5. Qual a expectativa de faturamento desse grupo para os proximos meses ?"
   ]
  },
  {
   "cell_type": "code",
   "execution_count": null,
   "metadata": {},
   "outputs": [],
   "source": []
  },
  {
   "cell_type": "markdown",
   "metadata": {},
   "source": [
    "6. Quais as condições para uma pessoa ser elegível?"
   ]
  },
  {
   "cell_type": "code",
   "execution_count": 186,
   "metadata": {},
   "outputs": [],
   "source": [
    "# Estar no intervalo de confiança do Gross Revenue do Insiders"
   ]
  },
  {
   "cell_type": "markdown",
   "metadata": {},
   "source": [
    "7. Quais as condições para uma pessoa ser removida?"
   ]
  },
  {
   "cell_type": "code",
   "execution_count": 187,
   "metadata": {},
   "outputs": [],
   "source": [
    "# Estar fora do invervalo de confiança de Gross Revenue do Insiders"
   ]
  },
  {
   "cell_type": "markdown",
   "metadata": {},
   "source": [
    "8. Qual a garantia que o programa Insiders é melhor que o resto da base?"
   ]
  },
  {
   "cell_type": "code",
   "execution_count": null,
   "metadata": {},
   "outputs": [],
   "source": []
  },
  {
   "cell_type": "markdown",
   "metadata": {},
   "source": [
    "9. Quais ações o time de marketing pode realizar para aumentar o faturamento?"
   ]
  },
  {
   "cell_type": "code",
   "execution_count": null,
   "metadata": {},
   "outputs": [],
   "source": []
  },
  {
   "cell_type": "markdown",
   "metadata": {
    "tags": []
   },
   "source": [
    "### **10.3 Priorização das Hipóteses**"
   ]
  },
  {
   "cell_type": "markdown",
   "metadata": {
    "tags": []
   },
   "source": [
    "### **10.4 Validação das Hipóteses**"
   ]
  },
  {
   "cell_type": "markdown",
   "metadata": {
    "tags": []
   },
   "source": [
    "### **10.5 Quadro de Respostas**"
   ]
  },
  {
   "cell_type": "code",
   "execution_count": null,
   "metadata": {},
   "outputs": [],
   "source": []
  },
  {
   "cell_type": "markdown",
   "metadata": {
    "jp-MarkdownHeadingCollapsed": true,
    "tags": []
   },
   "source": [
    "## **11.0 Deploy to Production**"
   ]
  }
 ],
 "metadata": {
  "kernelspec": {
   "display_name": "Python 3 (ipykernel)",
   "language": "python",
   "name": "python3"
  },
  "language_info": {
   "codemirror_mode": {
    "name": "ipython",
    "version": 3
   },
   "file_extension": ".py",
   "mimetype": "text/x-python",
   "name": "python",
   "nbconvert_exporter": "python",
   "pygments_lexer": "ipython3",
   "version": "3.8.10"
  }
 },
 "nbformat": 4,
 "nbformat_minor": 4
}
